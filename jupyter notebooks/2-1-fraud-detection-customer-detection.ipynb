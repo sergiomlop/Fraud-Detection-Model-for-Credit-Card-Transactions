{
 "cells": [
  {
   "cell_type": "markdown",
   "metadata": {
    "papermill": {
     "duration": 0.049524,
     "end_time": "2020-12-21T17:45:04.570680",
     "exception": false,
     "start_time": "2020-12-21T17:45:04.521156",
     "status": "completed"
    },
    "tags": []
   },
   "source": [
    "# Customer/Card Detection techniques\n",
    "\n",
    "One of the main challenges of this competition (https://www.kaggle.com/c/ieee-fraud-detection) is **how you obtain the card or the customer whose the transactions, fraudulent or not, belong to.** It has been said that the datasets have all the information to get this, but we faced two problems:\n",
    "1. It is **anonymized**, they're collected by Vesta’s fraud protection system and digital security partners. \n",
    "2. The true meaning of the columns that seems to compose the card or the customer is somewhat obscure too. **The field names are masked** and pairwise dictionary will not be provided for privacy protection and contract agreement.\n",
    "\n",
    "> For this reason, the identification of both customer or card is one of the most discussed issues in the competition these datasets come from, and the approachs and solutions are quite different.\n",
    "> **In this notebook, we are based partially on the first approach coming from one of the winners of the competition Chris Deotte teaming with Konstantin Yakovlev. We will use the same analysis techniques, but how we implement the model using this information will finally difer.**\n",
    "\n",
    "\n",
    "## Our approaches\n",
    "\n",
    "### `uid1`\n",
    "We used a simple approach from the more evident columns: \n",
    "* `card1`:  Probably, card number given by the issuing company or maybe customer number.\n",
    "* `addr1`:  Billing address zip code\n",
    "* `D1achr`: `D1` could be or the days passed between the transaction and the card issue date, or between transaction and the first transaction done with it. For us, this does not really matters, as can be used them both to identify the card. We made this attribute substracting `D1` (in days) to the column `TransactionDelt` (in seconds) with the formula:  \n",
    "\n",
    "**`D1achr` = `TransactionDT` /(60x60x24) - `D1`**  \n",
    "**`uid1` = `card1` + `addr1` + `D1achr`**  \n",
    "\n",
    "---\n",
    "\n",
    "### `uid2`\n",
    "Our second approach was to add more card and address field to get the unique card or user id, similar to the choice made by Taemyung Heo (https://www.kaggle.com/c/ieee-fraud-detection/discussion/111696). When doing the FE, this uid has been really helpful, and the aggregations created with this uid improves greatly the model.\n",
    "\n",
    "**`uid2` = `card1` + `card2` ... + `card6` + `addr1` + `addr2` + `D1achr` + `ProductCD`**\n",
    "\n",
    "---\n",
    "\n",
    "### `uid3`\n",
    "\n",
    "Apart from these approaches, we wanted to replicate the analysis done by Chris Deotte performing adversarial validation which is based on mixing the data from train and test, removing the business target (`isFraud`) and transaction identification columns and runing a model to determine if we can predict which observations are from train and which from test, and assuming that the most important features are strogly related to the customer identification.\n",
    "\n",
    "https://www.kaggle.com/c/ieee-fraud-detection/discussion/111510\n",
    "\n",
    "**We will use a combination of the three approaches to create new features that identifies the card and new aggregates from them.**"
   ]
  },
  {
   "cell_type": "code",
   "execution_count": 1,
   "metadata": {
    "execution": {
     "iopub.execute_input": "2020-12-21T17:45:04.674347Z",
     "iopub.status.busy": "2020-12-21T17:45:04.673706Z",
     "iopub.status.idle": "2020-12-21T17:45:30.051632Z",
     "shell.execute_reply": "2020-12-21T17:45:30.051065Z"
    },
    "papermill": {
     "duration": 25.431793,
     "end_time": "2020-12-21T17:45:30.051750",
     "exception": false,
     "start_time": "2020-12-21T17:45:04.619957",
     "status": "completed"
    },
    "tags": []
   },
   "outputs": [],
   "source": [
    "!pip -q install --upgrade pip\n",
    "!pip -q install --upgrade seaborn"
   ]
  },
  {
   "cell_type": "code",
   "execution_count": 2,
   "metadata": {
    "execution": {
     "iopub.execute_input": "2020-12-21T17:45:30.151162Z",
     "iopub.status.busy": "2020-12-21T17:45:30.150273Z",
     "iopub.status.idle": "2020-12-21T17:45:31.887758Z",
     "shell.execute_reply": "2020-12-21T17:45:31.886970Z"
    },
    "papermill": {
     "duration": 1.797712,
     "end_time": "2020-12-21T17:45:31.887893",
     "exception": false,
     "start_time": "2020-12-21T17:45:30.090181",
     "status": "completed"
    },
    "tags": []
   },
   "outputs": [
    {
     "data": {
      "text/html": [
       "<style type='text/css'>\n",
       ".datatable table.frame { margin-bottom: 0; }\n",
       ".datatable table.frame thead { border-bottom: none; }\n",
       ".datatable table.frame tr.coltypes td {  color: #FFFFFF;  line-height: 6px;  padding: 0 0.5em;}\n",
       ".datatable .bool    { background: #DDDD99; }\n",
       ".datatable .object  { background: #565656; }\n",
       ".datatable .int     { background: #5D9E5D; }\n",
       ".datatable .float   { background: #4040CC; }\n",
       ".datatable .str     { background: #CC4040; }\n",
       ".datatable .row_index {  background: var(--jp-border-color3);  border-right: 1px solid var(--jp-border-color0);  color: var(--jp-ui-font-color3);  font-size: 9px;}\n",
       ".datatable .frame tr.coltypes .row_index {  background: var(--jp-border-color0);}\n",
       ".datatable th:nth-child(2) { padding-left: 12px; }\n",
       ".datatable .hellipsis {  color: var(--jp-cell-editor-border-color);}\n",
       ".datatable .vellipsis {  background: var(--jp-layout-color0);  color: var(--jp-cell-editor-border-color);}\n",
       ".datatable .na {  color: var(--jp-cell-editor-border-color);  font-size: 80%;}\n",
       ".datatable .footer { font-size: 9px; }\n",
       ".datatable .frame_dimensions {  background: var(--jp-border-color3);  border-top: 1px solid var(--jp-border-color0);  color: var(--jp-ui-font-color3);  display: inline-block;  opacity: 0.6;  padding: 1px 10px 1px 5px;}\n",
       ".datatable .frame thead tr.colnames {  background-image: url('data:image/png;base64,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');  background-repeat: repeat-x;  background-size: 14px;  height: 28px;}\n",
       "</style>\n"
      ],
      "text/plain": [
       "<IPython.core.display.HTML object>"
      ]
     },
     "metadata": {},
     "output_type": "display_data"
    }
   ],
   "source": [
    "import gc\n",
    "import catboost\n",
    "import lightgbm\n",
    "\n",
    "import pandas as pd\n",
    "import numpy as np\n",
    "import matplotlib.pyplot as plt\n",
    "import seaborn as sns\n",
    "\n",
    "from sklearn.preprocessing import LabelEncoder\n",
    "\n",
    "import warnings\n",
    "warnings.filterwarnings(\"ignore\")"
   ]
  },
  {
   "cell_type": "code",
   "execution_count": 3,
   "metadata": {
    "execution": {
     "iopub.execute_input": "2020-12-21T17:45:32.063182Z",
     "iopub.status.busy": "2020-12-21T17:45:32.062003Z",
     "iopub.status.idle": "2020-12-21T17:45:32.065764Z",
     "shell.execute_reply": "2020-12-21T17:45:32.064993Z"
    },
    "papermill": {
     "duration": 0.098567,
     "end_time": "2020-12-21T17:45:32.065906",
     "exception": false,
     "start_time": "2020-12-21T17:45:31.967339",
     "status": "completed"
    },
    "tags": []
   },
   "outputs": [],
   "source": [
    "##### Functions\n",
    "\n",
    "def get_denominator(serie):\n",
    "    \n",
    "    array_n   = np.array(serie)\n",
    "    uniques_n = np.unique(array_n[~np.isnan(array_n)])\n",
    "    \n",
    "    result  = None\n",
    "    for i in range(1,1000):\n",
    "        decimals = uniques_n*i - np.floor(uniques_n*i)\n",
    "\n",
    "        for decimal in decimals:\n",
    "            integer = []\n",
    "            if ((decimal < 0.001) | (decimal > 0.999)):\n",
    "                integer.append(True)\n",
    "            else:\n",
    "                integer.append(False)\n",
    "                break\n",
    "\n",
    "        if all(integer):\n",
    "            result = i\n",
    "            break\n",
    "\n",
    "    print('denominator', serie.name, ':', result)\n",
    "    \n",
    "def get_fraud_weights(serie):\n",
    "    \n",
    "    head        = 10\n",
    "    values      = list(serie.value_counts(dropna=False).index[:head])\n",
    "    df_wg_fraud = pd.DataFrame(columns=[serie.name, 'count', 'weight fraud'])\n",
    "    \n",
    "    for v in values:\n",
    "        if (v == v): # is not nan\n",
    "            n = train.query('{} == \"{}\" & isFraud == 1'.format(serie.name, v)).shape[0]\n",
    "            c = train.query('{} == \"{}\"'.format(serie.name, v)).shape[0]\n",
    "        else:\n",
    "            n = train.query('{} != {} & isFraud == 1'.format(serie.name, serie.name)).shape[0]\n",
    "            c = train.query('{} != {}'.format(serie.name, serie.name)).shape[0]\n",
    "\n",
    "        w = n/c\n",
    "        df_wg_fraud = df_wg_fraud.append({serie.name:v, 'count': c, 'weight fraud':w}, ignore_index = True)\\\n",
    "                      .sort_values('weight fraud', ascending=False)\n",
    "        \n",
    "    return df_wg_fraud.head(head)"
   ]
  },
  {
   "cell_type": "code",
   "execution_count": 4,
   "metadata": {
    "_cell_guid": "79c7e3d0-c299-4dcb-8224-4455121ee9b0",
    "_uuid": "d629ff2d2480ee46fbb7e2d37f6b5fab8052498a",
    "execution": {
     "iopub.execute_input": "2020-12-21T17:45:32.228588Z",
     "iopub.status.busy": "2020-12-21T17:45:32.227608Z",
     "iopub.status.idle": "2020-12-21T17:45:43.168409Z",
     "shell.execute_reply": "2020-12-21T17:45:43.167687Z"
    },
    "papermill": {
     "duration": 11.024737,
     "end_time": "2020-12-21T17:45:43.168545",
     "exception": false,
     "start_time": "2020-12-21T17:45:32.143808",
     "status": "completed"
    },
    "tags": []
   },
   "outputs": [
    {
     "name": "stdout",
     "output_type": "stream",
     "text": [
      "Downloading datasets...\n",
      " \n",
      "Train has been downloaded... (1/2)\n",
      "Test has been downloaded... (2/2)\n",
      "Done!\n"
     ]
    }
   ],
   "source": [
    "##### Download of files.\n",
    "\n",
    "print('Downloading datasets...')\n",
    "print(' ')\n",
    "train = pd.read_pickle('/kaggle/input/1-ieee-cis-memory-reduction/train_mred.pkl')\n",
    "print('Train has been downloaded... (1/2)')\n",
    "test  = pd.read_pickle('/kaggle/input/1-ieee-cis-memory-reduction/test_mred.pkl')\n",
    "print('Test has been downloaded... (2/2)')\n",
    "print('Done!')"
   ]
  },
  {
   "cell_type": "markdown",
   "metadata": {
    "papermill": {
     "duration": 0.077857,
     "end_time": "2020-12-21T17:45:43.325429",
     "exception": false,
     "start_time": "2020-12-21T17:45:43.247572",
     "status": "completed"
    },
    "tags": []
   },
   "source": [
    "# Brief Exploratory Data Analysis for the customer related columns\n",
    "Info and description of the columns from `TransactionID` to `R_emaildomain` and `Di` columns. This can be extended after getting the results of the adversarial validation"
   ]
  },
  {
   "cell_type": "code",
   "execution_count": 5,
   "metadata": {
    "execution": {
     "iopub.execute_input": "2020-12-21T17:45:43.512454Z",
     "iopub.status.busy": "2020-12-21T17:45:43.502337Z",
     "iopub.status.idle": "2020-12-21T17:45:43.983124Z",
     "shell.execute_reply": "2020-12-21T17:45:43.981906Z"
    },
    "papermill": {
     "duration": 0.580396,
     "end_time": "2020-12-21T17:45:43.983393",
     "exception": false,
     "start_time": "2020-12-21T17:45:43.402997",
     "status": "completed"
    },
    "tags": []
   },
   "outputs": [
    {
     "name": "stdout",
     "output_type": "stream",
     "text": [
      "<class 'pandas.core.frame.DataFrame'>\n",
      "RangeIndex: 590540 entries, 0 to 590539\n",
      "Data columns (total 17 columns):\n",
      " #   Column          Non-Null Count   Dtype  \n",
      "---  ------          --------------   -----  \n",
      " 0   TransactionID   590540 non-null  int32  \n",
      " 1   isFraud         590540 non-null  int8   \n",
      " 2   TransactionDT   590540 non-null  int32  \n",
      " 3   TransactionAmt  590540 non-null  float32\n",
      " 4   ProductCD       590540 non-null  object \n",
      " 5   card1           590540 non-null  int16  \n",
      " 6   card2           581607 non-null  float16\n",
      " 7   card3           588975 non-null  float16\n",
      " 8   card4           588963 non-null  object \n",
      " 9   card5           586281 non-null  float16\n",
      " 10  card6           588969 non-null  object \n",
      " 11  addr1           524834 non-null  float16\n",
      " 12  addr2           524834 non-null  float16\n",
      " 13  dist1           238269 non-null  float32\n",
      " 14  dist2           37627 non-null   float32\n",
      " 15  P_emaildomain   496084 non-null  object \n",
      " 16  R_emaildomain   137291 non-null  object \n",
      "dtypes: float16(5), float32(3), int16(1), int32(2), int8(1), object(5)\n",
      "memory usage: 41.1+ MB\n"
     ]
    }
   ],
   "source": [
    "##### Info for the colums until R_emaildomain\n",
    "\n",
    "columns = train.iloc[:,:17]\n",
    "columns.info()"
   ]
  },
  {
   "cell_type": "code",
   "execution_count": 6,
   "metadata": {
    "execution": {
     "iopub.execute_input": "2020-12-21T17:45:44.091885Z",
     "iopub.status.busy": "2020-12-21T17:45:44.090995Z",
     "iopub.status.idle": "2020-12-21T17:45:45.860157Z",
     "shell.execute_reply": "2020-12-21T17:45:45.859546Z"
    },
    "papermill": {
     "duration": 1.824136,
     "end_time": "2020-12-21T17:45:45.860272",
     "exception": false,
     "start_time": "2020-12-21T17:45:44.036136",
     "status": "completed"
    },
    "tags": []
   },
   "outputs": [
    {
     "data": {
      "text/html": [
       "<div>\n",
       "<style scoped>\n",
       "    .dataframe tbody tr th:only-of-type {\n",
       "        vertical-align: middle;\n",
       "    }\n",
       "\n",
       "    .dataframe tbody tr th {\n",
       "        vertical-align: top;\n",
       "    }\n",
       "\n",
       "    .dataframe thead th {\n",
       "        text-align: right;\n",
       "    }\n",
       "</style>\n",
       "<table border=\"1\" class=\"dataframe\">\n",
       "  <thead>\n",
       "    <tr style=\"text-align: right;\">\n",
       "      <th></th>\n",
       "      <th>TransactionID</th>\n",
       "      <th>isFraud</th>\n",
       "      <th>TransactionDT</th>\n",
       "      <th>TransactionAmt</th>\n",
       "      <th>card1</th>\n",
       "      <th>card2</th>\n",
       "      <th>card3</th>\n",
       "      <th>card5</th>\n",
       "      <th>addr1</th>\n",
       "      <th>addr2</th>\n",
       "      <th>dist1</th>\n",
       "      <th>dist2</th>\n",
       "    </tr>\n",
       "  </thead>\n",
       "  <tbody>\n",
       "    <tr>\n",
       "      <th>count</th>\n",
       "      <td>5.905400e+05</td>\n",
       "      <td>590540.000000</td>\n",
       "      <td>5.905400e+05</td>\n",
       "      <td>590540.000000</td>\n",
       "      <td>590540.000000</td>\n",
       "      <td>581607.0</td>\n",
       "      <td>588975.0</td>\n",
       "      <td>586281.0</td>\n",
       "      <td>524834.0</td>\n",
       "      <td>524834.0</td>\n",
       "      <td>238269.000000</td>\n",
       "      <td>37627.000000</td>\n",
       "    </tr>\n",
       "    <tr>\n",
       "      <th>mean</th>\n",
       "      <td>3.282270e+06</td>\n",
       "      <td>0.034990</td>\n",
       "      <td>7.372311e+06</td>\n",
       "      <td>134.849594</td>\n",
       "      <td>9898.734658</td>\n",
       "      <td>NaN</td>\n",
       "      <td>NaN</td>\n",
       "      <td>NaN</td>\n",
       "      <td>NaN</td>\n",
       "      <td>NaN</td>\n",
       "      <td>118.489357</td>\n",
       "      <td>231.855423</td>\n",
       "    </tr>\n",
       "    <tr>\n",
       "      <th>std</th>\n",
       "      <td>1.704744e+05</td>\n",
       "      <td>0.183755</td>\n",
       "      <td>4.617224e+06</td>\n",
       "      <td>239.162689</td>\n",
       "      <td>4901.170153</td>\n",
       "      <td>NaN</td>\n",
       "      <td>0.0</td>\n",
       "      <td>0.0</td>\n",
       "      <td>NaN</td>\n",
       "      <td>0.0</td>\n",
       "      <td>371.947388</td>\n",
       "      <td>529.039307</td>\n",
       "    </tr>\n",
       "    <tr>\n",
       "      <th>min</th>\n",
       "      <td>2.987000e+06</td>\n",
       "      <td>0.000000</td>\n",
       "      <td>8.640000e+04</td>\n",
       "      <td>0.251000</td>\n",
       "      <td>1000.000000</td>\n",
       "      <td>100.0</td>\n",
       "      <td>100.0</td>\n",
       "      <td>100.0</td>\n",
       "      <td>100.0</td>\n",
       "      <td>10.0</td>\n",
       "      <td>0.000000</td>\n",
       "      <td>0.000000</td>\n",
       "    </tr>\n",
       "    <tr>\n",
       "      <th>25%</th>\n",
       "      <td>3.134635e+06</td>\n",
       "      <td>0.000000</td>\n",
       "      <td>3.027058e+06</td>\n",
       "      <td>43.320999</td>\n",
       "      <td>6019.000000</td>\n",
       "      <td>214.0</td>\n",
       "      <td>150.0</td>\n",
       "      <td>166.0</td>\n",
       "      <td>204.0</td>\n",
       "      <td>87.0</td>\n",
       "      <td>3.000000</td>\n",
       "      <td>7.000000</td>\n",
       "    </tr>\n",
       "    <tr>\n",
       "      <th>50%</th>\n",
       "      <td>3.282270e+06</td>\n",
       "      <td>0.000000</td>\n",
       "      <td>7.306528e+06</td>\n",
       "      <td>68.769001</td>\n",
       "      <td>9678.000000</td>\n",
       "      <td>361.0</td>\n",
       "      <td>150.0</td>\n",
       "      <td>226.0</td>\n",
       "      <td>299.0</td>\n",
       "      <td>87.0</td>\n",
       "      <td>8.000000</td>\n",
       "      <td>37.000000</td>\n",
       "    </tr>\n",
       "    <tr>\n",
       "      <th>75%</th>\n",
       "      <td>3.429904e+06</td>\n",
       "      <td>0.000000</td>\n",
       "      <td>1.124662e+07</td>\n",
       "      <td>125.000000</td>\n",
       "      <td>14184.000000</td>\n",
       "      <td>512.0</td>\n",
       "      <td>150.0</td>\n",
       "      <td>226.0</td>\n",
       "      <td>330.0</td>\n",
       "      <td>87.0</td>\n",
       "      <td>24.000000</td>\n",
       "      <td>206.000000</td>\n",
       "    </tr>\n",
       "    <tr>\n",
       "      <th>max</th>\n",
       "      <td>3.577539e+06</td>\n",
       "      <td>1.000000</td>\n",
       "      <td>1.581113e+07</td>\n",
       "      <td>31937.390625</td>\n",
       "      <td>18396.000000</td>\n",
       "      <td>600.0</td>\n",
       "      <td>231.0</td>\n",
       "      <td>237.0</td>\n",
       "      <td>540.0</td>\n",
       "      <td>102.0</td>\n",
       "      <td>10286.000000</td>\n",
       "      <td>11623.000000</td>\n",
       "    </tr>\n",
       "  </tbody>\n",
       "</table>\n",
       "</div>"
      ],
      "text/plain": [
       "       TransactionID        isFraud  TransactionDT  TransactionAmt  \\\n",
       "count   5.905400e+05  590540.000000   5.905400e+05   590540.000000   \n",
       "mean    3.282270e+06       0.034990   7.372311e+06      134.849594   \n",
       "std     1.704744e+05       0.183755   4.617224e+06      239.162689   \n",
       "min     2.987000e+06       0.000000   8.640000e+04        0.251000   \n",
       "25%     3.134635e+06       0.000000   3.027058e+06       43.320999   \n",
       "50%     3.282270e+06       0.000000   7.306528e+06       68.769001   \n",
       "75%     3.429904e+06       0.000000   1.124662e+07      125.000000   \n",
       "max     3.577539e+06       1.000000   1.581113e+07    31937.390625   \n",
       "\n",
       "               card1     card2     card3     card5     addr1     addr2  \\\n",
       "count  590540.000000  581607.0  588975.0  586281.0  524834.0  524834.0   \n",
       "mean     9898.734658       NaN       NaN       NaN       NaN       NaN   \n",
       "std      4901.170153       NaN       0.0       0.0       NaN       0.0   \n",
       "min      1000.000000     100.0     100.0     100.0     100.0      10.0   \n",
       "25%      6019.000000     214.0     150.0     166.0     204.0      87.0   \n",
       "50%      9678.000000     361.0     150.0     226.0     299.0      87.0   \n",
       "75%     14184.000000     512.0     150.0     226.0     330.0      87.0   \n",
       "max     18396.000000     600.0     231.0     237.0     540.0     102.0   \n",
       "\n",
       "               dist1         dist2  \n",
       "count  238269.000000  37627.000000  \n",
       "mean      118.489357    231.855423  \n",
       "std       371.947388    529.039307  \n",
       "min         0.000000      0.000000  \n",
       "25%         3.000000      7.000000  \n",
       "50%         8.000000     37.000000  \n",
       "75%        24.000000    206.000000  \n",
       "max     10286.000000  11623.000000  "
      ]
     },
     "execution_count": 6,
     "metadata": {},
     "output_type": "execute_result"
    }
   ],
   "source": [
    "##### Main statistics\n",
    "\n",
    "columns.describe()"
   ]
  },
  {
   "cell_type": "code",
   "execution_count": 7,
   "metadata": {
    "execution": {
     "iopub.execute_input": "2020-12-21T17:45:45.977336Z",
     "iopub.status.busy": "2020-12-21T17:45:45.976645Z",
     "iopub.status.idle": "2020-12-21T17:45:46.778764Z",
     "shell.execute_reply": "2020-12-21T17:45:46.779348Z"
    },
    "papermill": {
     "duration": 0.864104,
     "end_time": "2020-12-21T17:45:46.779501",
     "exception": false,
     "start_time": "2020-12-21T17:45:45.915397",
     "status": "completed"
    },
    "tags": []
   },
   "outputs": [
    {
     "name": "stdout",
     "output_type": "stream",
     "text": [
      "Number of NaNs in train (amount):\n",
      "TransactionID          0\n",
      "isFraud                0\n",
      "TransactionDT          0\n",
      "TransactionAmt         0\n",
      "ProductCD              0\n",
      "card1                  0\n",
      "card2               8933\n",
      "card3               1565\n",
      "card4               1577\n",
      "card5               4259\n",
      "card6               1571\n",
      "addr1              65706\n",
      "addr2              65706\n",
      "dist1             352271\n",
      "dist2             552913\n",
      "P_emaildomain      94456\n",
      "R_emaildomain     453249\n",
      "dtype: int64\n",
      " \n",
      "Number of NaNs in train (% of total):\n",
      "TransactionID     0.000000\n",
      "isFraud           0.000000\n",
      "TransactionDT     0.000000\n",
      "TransactionAmt    0.000000\n",
      "ProductCD         0.000000\n",
      "card1             0.000000\n",
      "card2             0.015127\n",
      "card3             0.002650\n",
      "card4             0.002670\n",
      "card5             0.007212\n",
      "card6             0.002660\n",
      "addr1             0.111264\n",
      "addr2             0.111264\n",
      "dist1             0.596524\n",
      "dist2             0.936284\n",
      "P_emaildomain     0.159949\n",
      "R_emaildomain     0.767516\n",
      "dtype: float64\n"
     ]
    }
   ],
   "source": [
    "##### Number of nulls and percentages\n",
    "#dist1 greater than 90% of nulls\n",
    "\n",
    "print('Number of NaNs in train (amount):\\n', columns.isnull().sum(), sep='')\n",
    "print(' ')\n",
    "print('Number of NaNs in train (% of total):\\n', columns.isnull().sum()/train.shape[0], sep='')"
   ]
  },
  {
   "cell_type": "markdown",
   "metadata": {
    "papermill": {
     "duration": 0.054317,
     "end_time": "2020-12-21T17:45:46.888543",
     "exception": false,
     "start_time": "2020-12-21T17:45:46.834226",
     "status": "completed"
    },
    "tags": []
   },
   "source": [
    "`TransactionID` - Transactions identity information."
   ]
  },
  {
   "cell_type": "code",
   "execution_count": 8,
   "metadata": {
    "execution": {
     "iopub.execute_input": "2020-12-21T17:45:47.004443Z",
     "iopub.status.busy": "2020-12-21T17:45:47.003717Z",
     "iopub.status.idle": "2020-12-21T17:45:47.027925Z",
     "shell.execute_reply": "2020-12-21T17:45:47.027276Z"
    },
    "papermill": {
     "duration": 0.084514,
     "end_time": "2020-12-21T17:45:47.028056",
     "exception": false,
     "start_time": "2020-12-21T17:45:46.943542",
     "status": "completed"
    },
    "tags": []
   },
   "outputs": [
    {
     "name": "stdout",
     "output_type": "stream",
     "text": [
      "Is transaction unique?: True\n"
     ]
    }
   ],
   "source": [
    "print('Is transaction unique?:', len(train.TransactionID.unique()) == train.shape[0]) # unique transaction id -> (checking that it is truly unique)"
   ]
  },
  {
   "cell_type": "markdown",
   "metadata": {
    "papermill": {
     "duration": 0.054344,
     "end_time": "2020-12-21T17:45:47.137162",
     "exception": false,
     "start_time": "2020-12-21T17:45:47.082818",
     "status": "completed"
    },
    "tags": []
   },
   "source": [
    "`isFraud` - As the transactions have been reported as fraudulent, all the following transactions with the same customer account, billing address, or email address will be also labeled as fraudulent."
   ]
  },
  {
   "cell_type": "code",
   "execution_count": 9,
   "metadata": {
    "execution": {
     "iopub.execute_input": "2020-12-21T17:45:47.251017Z",
     "iopub.status.busy": "2020-12-21T17:45:47.250220Z",
     "iopub.status.idle": "2020-12-21T17:45:54.243731Z",
     "shell.execute_reply": "2020-12-21T17:45:54.245006Z"
    },
    "papermill": {
     "duration": 7.053484,
     "end_time": "2020-12-21T17:45:54.245338",
     "exception": false,
     "start_time": "2020-12-21T17:45:47.191854",
     "status": "completed"
    },
    "tags": []
   },
   "outputs": [
    {
     "name": "stdout",
     "output_type": "stream",
     "text": [
      "Fraud unbalance: 0.9650099908558268\n",
      "Fraud correlations: \n",
      "isFraud           1.000000\n",
      "card3             0.154151\n",
      "card5             0.033580\n",
      "addr2             0.030387\n",
      "TransactionID     0.014166\n",
      "card1             0.013640\n",
      "TransactionDT     0.013103\n",
      "TransactionAmt    0.011320\n",
      "addr1             0.005596\n",
      "card2             0.003388\n",
      "dtype: float64\n"
     ]
    }
   ],
   "source": [
    "print('Fraud unbalance:', train.isFraud.value_counts()[0]/train.shape[0]) # balance legit/totals\n",
    "print('Fraud correlations: \\n', abs(train.corrwith(train.isFraud)).head(10).sort_values(ascending = False), sep='')"
   ]
  },
  {
   "cell_type": "markdown",
   "metadata": {
    "papermill": {
     "duration": 0.082701,
     "end_time": "2020-12-21T17:45:54.412774",
     "exception": false,
     "start_time": "2020-12-21T17:45:54.330073",
     "status": "completed"
    },
    "tags": []
   },
   "source": [
    "`TransactionDT` - Timedelta from a given reference datetime (not an actual timestamp).Delta between the begining of the dataset (86400 secs) and the transaction 183 days, aprox half a year. The unit is a second. We are only using this variable to create `DeltaDays`.\n",
    "\n",
    "`DeltaDays` = np.floor(`TransactionDT` / 60 / 60 / 24) -> converts seconds to days."
   ]
  },
  {
   "cell_type": "code",
   "execution_count": 10,
   "metadata": {
    "execution": {
     "iopub.execute_input": "2020-12-21T17:45:54.587156Z",
     "iopub.status.busy": "2020-12-21T17:45:54.585990Z",
     "iopub.status.idle": "2020-12-21T17:45:54.603347Z",
     "shell.execute_reply": "2020-12-21T17:45:54.604214Z"
    },
    "papermill": {
     "duration": 0.105786,
     "end_time": "2020-12-21T17:45:54.604406",
     "exception": false,
     "start_time": "2020-12-21T17:45:54.498620",
     "status": "completed"
    },
    "tags": []
   },
   "outputs": [
    {
     "name": "stdout",
     "output_type": "stream",
     "text": [
      "TransactionDT min: 86400\n",
      "TransactionDT max: 15811131\n",
      "TransactionDT days (train): 183\n",
      "TransactionDT days (test): 183\n"
     ]
    }
   ],
   "source": [
    "print('TransactionDT min:', train.TransactionDT.min()) # From the discussions, 86400 id 60*60*24, a day in seconds\n",
    "print('TransactionDT max:', train.TransactionDT.max()) \n",
    "print('TransactionDT days (train):', round(train.TransactionDT.max()/train.TransactionDT.min())) # Days in 6 months in train\n",
    "print('TransactionDT days (test):', round((test.TransactionDT.max()-test.TransactionDT.min())/train.TransactionDT.min())) # Days in 6 months in train"
   ]
  },
  {
   "cell_type": "markdown",
   "metadata": {
    "papermill": {
     "duration": 0.054814,
     "end_time": "2020-12-21T17:45:54.717054",
     "exception": false,
     "start_time": "2020-12-21T17:45:54.662240",
     "status": "completed"
    },
    "tags": []
   },
   "source": [
    "`TransactionAmt` - Transaction amount."
   ]
  },
  {
   "cell_type": "code",
   "execution_count": 11,
   "metadata": {
    "execution": {
     "iopub.execute_input": "2020-12-21T17:45:54.834378Z",
     "iopub.status.busy": "2020-12-21T17:45:54.833136Z",
     "iopub.status.idle": "2020-12-21T17:46:00.569299Z",
     "shell.execute_reply": "2020-12-21T17:46:00.569791Z"
    },
    "papermill": {
     "duration": 5.79829,
     "end_time": "2020-12-21T17:46:00.569934",
     "exception": false,
     "start_time": "2020-12-21T17:45:54.771644",
     "status": "completed"
    },
    "tags": []
   },
   "outputs": [
    {
     "name": "stdout",
     "output_type": "stream",
     "text": [
      "TransactionAmt min: 0.25099998712539673\n",
      "TransactionAmt max: 31937.390625\n",
      "TransactionAmt mean: 134.84959411621094\n",
      "TransactionAmt correlations: \n",
      "TransactionAmt    1.000000\n",
      "V139              0.222308\n",
      "V140              0.207470\n",
      "V208              0.198601\n",
      "V161              0.197351\n",
      "V163              0.191320\n",
      "V313              0.190256\n",
      "V270              0.184497\n",
      "V272              0.183249\n",
      "V315              0.176778\n",
      "dtype: float64\n",
      "TransactionAmt fraud weights: \n",
      "   TransactionAmt    count  weight fraud\n",
      "0      226.000000  11704.0      0.033322\n",
      "1       49.000000  15990.0      0.029331\n",
      "2      100.000000  20362.0      0.025685\n",
      "3      117.000000  28933.0      0.024851\n",
      "4       39.000000  11095.0      0.021812\n",
      "5       59.000000  30582.0      0.021124\n",
      "6       50.000000  17009.0      0.020754\n",
      "9       29.000000  10683.0      0.018815\n",
      "7      107.949997  23954.0      0.009226\n",
      "8       57.950001  23600.0      0.003814\n"
     ]
    }
   ],
   "source": [
    "print('TransactionAmt min:', train.TransactionAmt.min())\n",
    "print('TransactionAmt max:', train.TransactionAmt.max())\n",
    "print('TransactionAmt mean:', train.TransactionAmt.mean())\n",
    "print('TransactionAmt correlations: \\n', abs(train.corrwith(train.TransactionAmt)).sort_values(ascending = False).head(10), sep='')\n",
    "print('TransactionAmt fraud weights: \\n', get_fraud_weights(train.TransactionAmt), sep='')"
   ]
  },
  {
   "cell_type": "code",
   "execution_count": 12,
   "metadata": {
    "execution": {
     "iopub.execute_input": "2020-12-21T17:46:00.690568Z",
     "iopub.status.busy": "2020-12-21T17:46:00.689924Z",
     "iopub.status.idle": "2020-12-21T17:46:01.434484Z",
     "shell.execute_reply": "2020-12-21T17:46:01.433856Z"
    },
    "papermill": {
     "duration": 0.807458,
     "end_time": "2020-12-21T17:46:01.434602",
     "exception": false,
     "start_time": "2020-12-21T17:46:00.627144",
     "status": "completed"
    },
    "tags": []
   },
   "outputs": [
    {
     "data": {
      "image/png": "[encoded data removed]",
      "text/plain": [
       "<Figure size 864x432 with 1 Axes>"
      ]
     },
     "metadata": {
      "needs_background": "light"
     },
     "output_type": "display_data"
    }
   ],
   "source": [
    "plt.figure(figsize=(12,6))\n",
    "sns.histplot(data=train, x = 'TransactionAmt', hue='isFraud', bins=40)\n",
    "plt.show()"
   ]
  },
  {
   "cell_type": "markdown",
   "metadata": {
    "papermill": {
     "duration": 0.058656,
     "end_time": "2020-12-21T17:46:01.552663",
     "exception": false,
     "start_time": "2020-12-21T17:46:01.494007",
     "status": "completed"
    },
    "tags": []
   },
   "source": [
    "`ProductCD` - 5 different product code, the product for each transaction."
   ]
  },
  {
   "cell_type": "code",
   "execution_count": 13,
   "metadata": {
    "execution": {
     "iopub.execute_input": "2020-12-21T17:46:01.730429Z",
     "iopub.status.busy": "2020-12-21T17:46:01.701410Z",
     "iopub.status.idle": "2020-12-21T17:46:03.225149Z",
     "shell.execute_reply": "2020-12-21T17:46:03.224563Z"
    },
    "papermill": {
     "duration": 1.61515,
     "end_time": "2020-12-21T17:46:03.225260",
     "exception": false,
     "start_time": "2020-12-21T17:46:01.610110",
     "status": "completed"
    },
    "tags": []
   },
   "outputs": [
    {
     "name": "stdout",
     "output_type": "stream",
     "text": [
      "ProductCD fraud weights: \n",
      "  ProductCD   count  weight fraud\n",
      "0         C   68519      0.116873\n",
      "4         S   11628      0.058996\n",
      "1         H   33024      0.047662\n",
      "2         R   37699      0.037826\n",
      "3         W  439670      0.020399\n"
     ]
    }
   ],
   "source": [
    "print('ProductCD fraud weights: \\n', get_fraud_weights(train.ProductCD), sep='')"
   ]
  },
  {
   "cell_type": "code",
   "execution_count": 14,
   "metadata": {
    "execution": {
     "iopub.execute_input": "2020-12-21T17:46:03.391318Z",
     "iopub.status.busy": "2020-12-21T17:46:03.374542Z",
     "iopub.status.idle": "2020-12-21T17:46:03.955710Z",
     "shell.execute_reply": "2020-12-21T17:46:03.955015Z"
    },
    "papermill": {
     "duration": 0.670996,
     "end_time": "2020-12-21T17:46:03.955822",
     "exception": false,
     "start_time": "2020-12-21T17:46:03.284826",
     "status": "completed"
    },
    "tags": []
   },
   "outputs": [
    {
     "data": {
      "image/png": "[encoded data removed]",
      "text/plain": [
       "<Figure size 864x432 with 1 Axes>"
      ]
     },
     "metadata": {
      "needs_background": "light"
     },
     "output_type": "display_data"
    }
   ],
   "source": [
    "plt.figure(figsize=(12,6))\n",
    "sns.countplot(x = train.ProductCD.values, hue= train.isFraud)\n",
    "plt.show()"
   ]
  },
  {
   "cell_type": "markdown",
   "metadata": {
    "papermill": {
     "duration": 0.058999,
     "end_time": "2020-12-21T17:46:04.074261",
     "exception": false,
     "start_time": "2020-12-21T17:46:04.015262",
     "status": "completed"
    },
    "tags": []
   },
   "source": [
    "`card1` - Probably, this is the number or part of the number given by the issuing entity. Categorical. It is not ordinal."
   ]
  },
  {
   "cell_type": "code",
   "execution_count": 15,
   "metadata": {
    "execution": {
     "iopub.execute_input": "2020-12-21T17:46:04.198166Z",
     "iopub.status.busy": "2020-12-21T17:46:04.197535Z",
     "iopub.status.idle": "2020-12-21T17:46:11.766677Z",
     "shell.execute_reply": "2020-12-21T17:46:11.766105Z"
    },
    "papermill": {
     "duration": 7.633519,
     "end_time": "2020-12-21T17:46:11.766792",
     "exception": false,
     "start_time": "2020-12-21T17:46:04.133273",
     "status": "completed"
    },
    "tags": []
   },
   "outputs": [
    {
     "name": "stdout",
     "output_type": "stream",
     "text": [
      "card1 values counts: \n",
      "7919     14932\n",
      "9500     14162\n",
      "15885    10361\n",
      "17188    10344\n",
      "15066     7945\n",
      "         ...  \n",
      "12390        1\n",
      "10341        1\n",
      "10006        1\n",
      "15743        1\n",
      "17105        1\n",
      "Name: card1, Length: 13553, dtype: int64\n",
      "card1 fraud weights: \n",
      "      card1    count  weight fraud\n",
      "9   7585.0   5334.0      0.049306\n",
      "0   6019.0   6771.0      0.043420\n",
      "1  15885.0  10361.0      0.042853\n",
      "2  15066.0   7945.0      0.039396\n",
      "3   9500.0  14162.0      0.037283\n",
      "4  12695.0   7091.0      0.028346\n",
      "5  17188.0  10344.0      0.026875\n",
      "6  12544.0   6773.0      0.021556\n",
      "7   2803.0   6141.0      0.011887\n",
      "8   7919.0  14932.0      0.007501\n",
      "card1 correlations: \n",
      " card1    1.000000\n",
      "V330     0.146483\n",
      "V329     0.142539\n",
      "V324     0.138616\n",
      "V333     0.136557\n",
      "V328     0.134419\n",
      "V323     0.133649\n",
      "V332     0.133150\n",
      "V165     0.127711\n",
      "V322     0.123626\n",
      "dtype: float64\n"
     ]
    }
   ],
   "source": [
    "print('card1 values counts: \\n', train.card1.value_counts(dropna=False), sep='')\n",
    "print('card1 fraud weights: \\n', get_fraud_weights(train.card1))\n",
    "print('card1 correlations: \\n', abs(train.corrwith(train.card1)).sort_values(ascending = False).head(10))"
   ]
  },
  {
   "cell_type": "code",
   "execution_count": 16,
   "metadata": {
    "execution": {
     "iopub.execute_input": "2020-12-21T17:46:11.893218Z",
     "iopub.status.busy": "2020-12-21T17:46:11.892585Z",
     "iopub.status.idle": "2020-12-21T17:46:12.897166Z",
     "shell.execute_reply": "2020-12-21T17:46:12.896613Z"
    },
    "papermill": {
     "duration": 1.070533,
     "end_time": "2020-12-21T17:46:12.897279",
     "exception": false,
     "start_time": "2020-12-21T17:46:11.826746",
     "status": "completed"
    },
    "tags": []
   },
   "outputs": [
    {
     "data": {
      "image/png": "[encoded data removed]",
      "text/plain": [
       "<Figure size 864x432 with 1 Axes>"
      ]
     },
     "metadata": {
      "needs_background": "light"
     },
     "output_type": "display_data"
    }
   ],
   "source": [
    "plt.figure(figsize=(12,6))\n",
    "sns.histplot(data=train, x = 'card1', hue='isFraud')\n",
    "plt.show()"
   ]
  },
  {
   "cell_type": "markdown",
   "metadata": {
    "papermill": {
     "duration": 0.061673,
     "end_time": "2020-12-21T17:46:13.020588",
     "exception": false,
     "start_time": "2020-12-21T17:46:12.958915",
     "status": "completed"
    },
    "tags": []
   },
   "source": [
    "`card2` - Categorical. Numeric, not ordinal."
   ]
  },
  {
   "cell_type": "code",
   "execution_count": 17,
   "metadata": {
    "execution": {
     "iopub.execute_input": "2020-12-21T17:46:13.154066Z",
     "iopub.status.busy": "2020-12-21T17:46:13.153370Z",
     "iopub.status.idle": "2020-12-21T17:46:23.237396Z",
     "shell.execute_reply": "2020-12-21T17:46:23.236379Z"
    },
    "papermill": {
     "duration": 10.154019,
     "end_time": "2020-12-21T17:46:23.237530",
     "exception": false,
     "start_time": "2020-12-21T17:46:13.083511",
     "status": "completed"
    },
    "tags": []
   },
   "outputs": [
    {
     "name": "stdout",
     "output_type": "stream",
     "text": [
      "card2 value counts: \n",
      "321.0    48935\n",
      "111.0    45191\n",
      "555.0    41995\n",
      "490.0    38145\n",
      "583.0    21803\n",
      "170.0    18214\n",
      "194.0    16938\n",
      "545.0    16355\n",
      "360.0    15190\n",
      "514.0    14541\n",
      "Name: card2, dtype: int64\n",
      "card2 fraud weights: \n",
      "   card2    count  weight fraud\n",
      "0  545.0  16355.0      0.086824\n",
      "9  514.0  14541.0      0.046214\n",
      "1  583.0  21803.0      0.041233\n",
      "2  170.0  18214.0      0.031295\n",
      "3  321.0  48935.0      0.028528\n",
      "4  490.0  38145.0      0.024014\n",
      "5  555.0  41995.0      0.022836\n",
      "6  111.0  45191.0      0.021641\n",
      "7  360.0  15190.0      0.010402\n",
      "8  194.0  16938.0      0.007675\n",
      "card2 correlations: \n",
      "card2    1.000000\n",
      "V302     0.097911\n",
      "V304     0.096949\n",
      "V303     0.092447\n",
      "V50      0.084508\n",
      "V71      0.081179\n",
      "V31      0.081149\n",
      "V42      0.079889\n",
      "V21      0.079678\n",
      "V32      0.079543\n",
      "dtype: float64\n"
     ]
    }
   ],
   "source": [
    "print('card2 value counts: \\n', train.card2.value_counts(dropna=False).head(10), sep='')\n",
    "print('card2 fraud weights: \\n', get_fraud_weights(train.card2), sep='')\n",
    "print('card2 correlations: \\n', abs(train.corrwith(train.card2)).sort_values(ascending = False).head(10), sep='')"
   ]
  },
  {
   "cell_type": "code",
   "execution_count": 18,
   "metadata": {
    "execution": {
     "iopub.execute_input": "2020-12-21T17:46:23.437430Z",
     "iopub.status.busy": "2020-12-21T17:46:23.436171Z",
     "iopub.status.idle": "2020-12-21T17:46:24.402665Z",
     "shell.execute_reply": "2020-12-21T17:46:24.401819Z"
    },
    "papermill": {
     "duration": 1.068794,
     "end_time": "2020-12-21T17:46:24.402793",
     "exception": false,
     "start_time": "2020-12-21T17:46:23.333999",
     "status": "completed"
    },
    "tags": []
   },
   "outputs": [
    {
     "data": {
      "image/png": "[encoded data removed]",
      "text/plain": [
       "<Figure size 864x432 with 1 Axes>"
      ]
     },
     "metadata": {
      "needs_background": "light"
     },
     "output_type": "display_data"
    }
   ],
   "source": [
    "plt.figure(figsize=(12,6))\n",
    "sns.histplot(data=train, x = 'card2', hue='isFraud')\n",
    "plt.show()"
   ]
  },
  {
   "cell_type": "markdown",
   "metadata": {
    "papermill": {
     "duration": 0.095137,
     "end_time": "2020-12-21T17:46:24.599825",
     "exception": false,
     "start_time": "2020-12-21T17:46:24.504688",
     "status": "completed"
    },
    "tags": []
   },
   "source": [
    "`card3` - Categorical."
   ]
  },
  {
   "cell_type": "code",
   "execution_count": 19,
   "metadata": {
    "execution": {
     "iopub.execute_input": "2020-12-21T17:46:24.801383Z",
     "iopub.status.busy": "2020-12-21T17:46:24.800536Z",
     "iopub.status.idle": "2020-12-21T17:46:36.724480Z",
     "shell.execute_reply": "2020-12-21T17:46:36.725210Z"
    },
    "papermill": {
     "duration": 12.029448,
     "end_time": "2020-12-21T17:46:36.725403",
     "exception": false,
     "start_time": "2020-12-21T17:46:24.695955",
     "status": "completed"
    },
    "tags": []
   },
   "outputs": [
    {
     "name": "stdout",
     "output_type": "stream",
     "text": [
      "card3 value counts: \n",
      "150.0    521287\n",
      "185.0     56346\n",
      "106.0      1571\n",
      "NaN        1565\n",
      "146.0      1252\n",
      "144.0      1252\n",
      "117.0       962\n",
      "143.0       899\n",
      "119.0       750\n",
      "102.0       460\n",
      "Name: card3, dtype: int64\n",
      "card3 fraud weights: \n",
      "   card3     count  weight fraud\n",
      "0  185.0   56346.0      0.130657\n",
      "1  119.0     750.0      0.093333\n",
      "2  144.0    1252.0      0.089457\n",
      "3  143.0     899.0      0.031146\n",
      "4    NaN    1565.0      0.024920\n",
      "5  150.0  521287.0      0.024568\n",
      "9  102.0     460.0      0.023913\n",
      "6  146.0    1252.0      0.019968\n",
      "7  117.0     962.0      0.018711\n",
      "8  106.0    1571.0      0.015277\n",
      "card3 correlations: \n",
      "card3    1.000000\n",
      "V15      0.759508\n",
      "V94      0.758586\n",
      "V16      0.744826\n",
      "V57      0.744299\n",
      "V79      0.738073\n",
      "V33      0.733222\n",
      "V50      0.731792\n",
      "V51      0.731570\n",
      "V58      0.719275\n",
      "dtype: float64\n"
     ]
    }
   ],
   "source": [
    "print('card3 value counts: \\n', train.card3.value_counts(dropna=False).head(10), sep='')\n",
    "print('card3 fraud weights: \\n', get_fraud_weights(train.card3), sep='')\n",
    "print('card3 correlations: \\n', abs(train.corrwith(train.card3)).sort_values(ascending = False).head(10), sep='')"
   ]
  },
  {
   "cell_type": "code",
   "execution_count": 20,
   "metadata": {
    "execution": {
     "iopub.execute_input": "2020-12-21T17:46:36.924605Z",
     "iopub.status.busy": "2020-12-21T17:46:36.923723Z",
     "iopub.status.idle": "2020-12-21T17:46:37.367158Z",
     "shell.execute_reply": "2020-12-21T17:46:37.367880Z"
    },
    "papermill": {
     "duration": 0.54649,
     "end_time": "2020-12-21T17:46:37.368351",
     "exception": false,
     "start_time": "2020-12-21T17:46:36.821861",
     "status": "completed"
    },
    "tags": []
   },
   "outputs": [
    {
     "data": {
      "image/png": "[encoded data removed]",
      "text/plain": [
       "<Figure size 864x432 with 1 Axes>"
      ]
     },
     "metadata": {
      "needs_background": "light"
     },
     "output_type": "display_data"
    }
   ],
   "source": [
    "plt.figure(figsize=(12,6))\n",
    "sns.histplot(data=train, x = 'card3', hue='isFraud')\n",
    "plt.show()"
   ]
  },
  {
   "cell_type": "markdown",
   "metadata": {
    "papermill": {
     "duration": 0.06992,
     "end_time": "2020-12-21T17:46:37.517651",
     "exception": false,
     "start_time": "2020-12-21T17:46:37.447731",
     "status": "completed"
    },
    "tags": []
   },
   "source": [
    "`card4` - Card payments company. Categorical, strings."
   ]
  },
  {
   "cell_type": "code",
   "execution_count": 21,
   "metadata": {
    "execution": {
     "iopub.execute_input": "2020-12-21T17:46:37.788607Z",
     "iopub.status.busy": "2020-12-21T17:46:37.739405Z",
     "iopub.status.idle": "2020-12-21T17:46:39.193582Z",
     "shell.execute_reply": "2020-12-21T17:46:39.194507Z"
    },
    "papermill": {
     "duration": 1.610228,
     "end_time": "2020-12-21T17:46:39.194655",
     "exception": false,
     "start_time": "2020-12-21T17:46:37.584427",
     "status": "completed"
    },
    "tags": []
   },
   "outputs": [
    {
     "name": "stdout",
     "output_type": "stream",
     "text": [
      "card4 value counts: \n",
      "visa                384767\n",
      "mastercard          189217\n",
      "american express      8328\n",
      "discover              6651\n",
      "NaN                   1577\n",
      "Name: card4, dtype: int64\n",
      "card4 fraud weights: \n",
      "              card4   count  weight fraud\n",
      "0          discover    6651      0.077282\n",
      "1              visa  384767      0.034756\n",
      "2        mastercard  189217      0.034331\n",
      "3  american express    8328      0.028698\n",
      "4               NaN    1577      0.025999\n"
     ]
    }
   ],
   "source": [
    "print('card4 value counts: \\n', train.card4.value_counts(dropna=False).head(10), sep='')\n",
    "print('card4 fraud weights: \\n', get_fraud_weights(train.card4), sep='')"
   ]
  },
  {
   "cell_type": "code",
   "execution_count": 22,
   "metadata": {
    "execution": {
     "iopub.execute_input": "2020-12-21T17:46:39.340380Z",
     "iopub.status.busy": "2020-12-21T17:46:39.339388Z",
     "iopub.status.idle": "2020-12-21T17:46:39.979347Z",
     "shell.execute_reply": "2020-12-21T17:46:39.979853Z"
    },
    "papermill": {
     "duration": 0.717002,
     "end_time": "2020-12-21T17:46:39.980080",
     "exception": false,
     "start_time": "2020-12-21T17:46:39.263078",
     "status": "completed"
    },
    "tags": []
   },
   "outputs": [
    {
     "data": {
      "image/png": "[encoded data removed]",
      "text/plain": [
       "<Figure size 864x432 with 1 Axes>"
      ]
     },
     "metadata": {
      "needs_background": "light"
     },
     "output_type": "display_data"
    }
   ],
   "source": [
    "plt.figure(figsize=(12,6))\n",
    "sns.countplot(data=train, x = 'card4', hue='isFraud')\n",
    "plt.show()"
   ]
  },
  {
   "cell_type": "markdown",
   "metadata": {
    "papermill": {
     "duration": 0.106348,
     "end_time": "2020-12-21T17:46:40.189639",
     "exception": false,
     "start_time": "2020-12-21T17:46:40.083291",
     "status": "completed"
    },
    "tags": []
   },
   "source": [
    "`card5` - Numeric, categorical."
   ]
  },
  {
   "cell_type": "code",
   "execution_count": 23,
   "metadata": {
    "execution": {
     "iopub.execute_input": "2020-12-21T17:46:40.404722Z",
     "iopub.status.busy": "2020-12-21T17:46:40.403732Z",
     "iopub.status.idle": "2020-12-21T17:46:50.322816Z",
     "shell.execute_reply": "2020-12-21T17:46:50.321940Z"
    },
    "papermill": {
     "duration": 10.03001,
     "end_time": "2020-12-21T17:46:50.322982",
     "exception": false,
     "start_time": "2020-12-21T17:46:40.292972",
     "status": "completed"
    },
    "tags": []
   },
   "outputs": [
    {
     "name": "stdout",
     "output_type": "stream",
     "text": [
      "card5 value counts: \n",
      "226.0    296546\n",
      "224.0     81513\n",
      "166.0     57140\n",
      "102.0     29105\n",
      "117.0     25941\n",
      "138.0     19737\n",
      "195.0     16945\n",
      "137.0     11720\n",
      "126.0     10298\n",
      "219.0      9924\n",
      "Name: card5, dtype: int64\n",
      "card5 fraud weights: \n",
      "   card5     count  weight fraud\n",
      "0  137.0   11720.0      0.147184\n",
      "1  138.0   19737.0      0.085221\n",
      "2  102.0   29105.0      0.062945\n",
      "9  219.0    9924.0      0.057537\n",
      "3  195.0   16945.0      0.040189\n",
      "4  224.0   81513.0      0.038669\n",
      "5  226.0  296546.0      0.029516\n",
      "6  117.0   25941.0      0.013646\n",
      "7  166.0   57140.0      0.011026\n",
      "8  126.0   10298.0      0.010196\n",
      "card5 correlations: \n",
      "card5    1.000000\n",
      "V330     0.289202\n",
      "V329     0.282868\n",
      "V328     0.270129\n",
      "V324     0.268091\n",
      "V333     0.265948\n",
      "V323     0.260365\n",
      "V332     0.259082\n",
      "V327     0.243258\n",
      "V322     0.238320\n",
      "dtype: float64\n"
     ]
    }
   ],
   "source": [
    "print('card5 value counts: \\n', train.card5.value_counts(dropna=False).head(10), sep='')\n",
    "print('card5 fraud weights: \\n', get_fraud_weights(train.card5), sep='')\n",
    "print('card5 correlations: \\n', abs(train.corrwith(train.card5)).sort_values(ascending = False).head(10), sep='')"
   ]
  },
  {
   "cell_type": "code",
   "execution_count": 24,
   "metadata": {
    "execution": {
     "iopub.execute_input": "2020-12-21T17:46:50.472732Z",
     "iopub.status.busy": "2020-12-21T17:46:50.472114Z",
     "iopub.status.idle": "2020-12-21T17:46:51.102694Z",
     "shell.execute_reply": "2020-12-21T17:46:51.103398Z"
    },
    "papermill": {
     "duration": 0.708404,
     "end_time": "2020-12-21T17:46:51.103594",
     "exception": false,
     "start_time": "2020-12-21T17:46:50.395190",
     "status": "completed"
    },
    "tags": []
   },
   "outputs": [
    {
     "data": {
      "image/png": "[encoded data removed]",
      "text/plain": [
       "<Figure size 864x432 with 1 Axes>"
      ]
     },
     "metadata": {
      "needs_background": "light"
     },
     "output_type": "display_data"
    }
   ],
   "source": [
    "plt.figure(figsize=(12,6))\n",
    "sns.histplot(data=train, x = 'card5', hue='isFraud')\n",
    "plt.show()"
   ]
  },
  {
   "cell_type": "markdown",
   "metadata": {
    "papermill": {
     "duration": 0.071355,
     "end_time": "2020-12-21T17:46:51.247412",
     "exception": false,
     "start_time": "2020-12-21T17:46:51.176057",
     "status": "completed"
    },
    "tags": []
   },
   "source": [
    "`card6` - Card type. Categorical, strings."
   ]
  },
  {
   "cell_type": "code",
   "execution_count": 25,
   "metadata": {
    "execution": {
     "iopub.execute_input": "2020-12-21T17:46:51.393402Z",
     "iopub.status.busy": "2020-12-21T17:46:51.392707Z",
     "iopub.status.idle": "2020-12-21T17:46:52.567175Z",
     "shell.execute_reply": "2020-12-21T17:46:52.566283Z"
    },
    "papermill": {
     "duration": 1.248379,
     "end_time": "2020-12-21T17:46:52.567315",
     "exception": false,
     "start_time": "2020-12-21T17:46:51.318936",
     "status": "completed"
    },
    "tags": []
   },
   "outputs": [
    {
     "name": "stdout",
     "output_type": "stream",
     "text": [
      "card6 value counts: \n",
      "debit              439938\n",
      "credit             148986\n",
      "NaN                  1571\n",
      "debit or credit        30\n",
      "charge card            15\n",
      "Name: card6, dtype: int64\n",
      "card6 fraud weights: \n",
      "             card6   count  weight fraud\n",
      "0           credit  148986      0.066785\n",
      "1              NaN    1571      0.024825\n",
      "2            debit  439938      0.024263\n",
      "3  debit or credit      30      0.000000\n",
      "4      charge card      15      0.000000\n"
     ]
    }
   ],
   "source": [
    "print('card6 value counts: \\n', train.card6.value_counts(dropna=False).head(10), sep='')\n",
    "print('card6 fraud weights: \\n', get_fraud_weights(train.card6), sep='')"
   ]
  },
  {
   "cell_type": "code",
   "execution_count": 26,
   "metadata": {
    "execution": {
     "iopub.execute_input": "2020-12-21T17:46:52.814874Z",
     "iopub.status.busy": "2020-12-21T17:46:52.813817Z",
     "iopub.status.idle": "2020-12-21T17:46:53.400503Z",
     "shell.execute_reply": "2020-12-21T17:46:53.399579Z"
    },
    "papermill": {
     "duration": 0.725137,
     "end_time": "2020-12-21T17:46:53.400623",
     "exception": false,
     "start_time": "2020-12-21T17:46:52.675486",
     "status": "completed"
    },
    "tags": []
   },
   "outputs": [
    {
     "data": {
      "image/png": "[encoded data removed]",
      "text/plain": [
       "<Figure size 864x432 with 1 Axes>"
      ]
     },
     "metadata": {
      "needs_background": "light"
     },
     "output_type": "display_data"
    }
   ],
   "source": [
    "plt.figure(figsize=(12,6))\n",
    "sns.countplot(data=train, x = 'card6', hue='isFraud')\n",
    "plt.show()"
   ]
  },
  {
   "cell_type": "markdown",
   "metadata": {
    "papermill": {
     "duration": 0.072298,
     "end_time": "2020-12-21T17:46:53.545493",
     "exception": false,
     "start_time": "2020-12-21T17:46:53.473195",
     "status": "completed"
    },
    "tags": []
   },
   "source": [
    "`addr1` - This is the billing region or zip code. It is used to identify unique cards or user ids. In the real world, the zip codes are different between countries, but in the dataset, there are not many different ones: that depends on how the anonymization was done. This information has been analyzed in previous notebook, and it is part of the identification of a card."
   ]
  },
  {
   "cell_type": "code",
   "execution_count": 27,
   "metadata": {
    "execution": {
     "iopub.execute_input": "2020-12-21T17:46:53.697361Z",
     "iopub.status.busy": "2020-12-21T17:46:53.696682Z",
     "iopub.status.idle": "2020-12-21T17:47:00.764156Z",
     "shell.execute_reply": "2020-12-21T17:47:00.762479Z"
    },
    "papermill": {
     "duration": 7.147008,
     "end_time": "2020-12-21T17:47:00.764270",
     "exception": false,
     "start_time": "2020-12-21T17:46:53.617262",
     "status": "completed"
    },
    "tags": []
   },
   "outputs": [
    {
     "name": "stdout",
     "output_type": "stream",
     "text": [
      "addr1 value counts: \n",
      "NaN      65706\n",
      "299.0    46335\n",
      "325.0    42751\n",
      "204.0    42020\n",
      "264.0    39870\n",
      "330.0    26287\n",
      "315.0    23078\n",
      "441.0    20827\n",
      "272.0    20141\n",
      "123.0    16105\n",
      "Name: addr1, dtype: int64\n",
      "addr1 fraud weights: \n",
      "   addr1    count  weight fraud\n",
      "0    NaN  65706.0      0.117813\n",
      "1  330.0  26287.0      0.031955\n",
      "2  272.0  20141.0      0.028598\n",
      "3  204.0  42020.0      0.026654\n",
      "4  441.0  20827.0      0.025592\n",
      "5  325.0  42751.0      0.025426\n",
      "9  123.0  16105.0      0.024713\n",
      "6  299.0  46335.0      0.021258\n",
      "7  264.0  39870.0      0.018259\n",
      "8  315.0  23078.0      0.017809\n",
      "addr1 correlations: \n",
      "addr1    1.000000\n",
      "V326     0.050944\n",
      "D13      0.050886\n",
      "V327     0.047731\n",
      "V330     0.042601\n",
      "V329     0.042381\n",
      "V324     0.040680\n",
      "V323     0.039966\n",
      "V333     0.039882\n",
      "V175     0.039571\n",
      "V332     0.038868\n",
      "V183     0.038237\n",
      "V168     0.038041\n",
      "V179     0.037672\n",
      "V182     0.037324\n",
      "dtype: float64\n"
     ]
    }
   ],
   "source": [
    "print('addr1 value counts: \\n', train.addr1.value_counts(dropna=False).head(10), sep='')\n",
    "print('addr1 fraud weights: \\n', get_fraud_weights(train.addr1), sep='') # NaN values have 11,7 % fraud vs 3.5%\n",
    "print('addr1 correlations: \\n', abs(train.corrwith(train.addr1).sort_values(ascending = False)).head(15), sep='') # Hight correlation"
   ]
  },
  {
   "cell_type": "code",
   "execution_count": 28,
   "metadata": {
    "execution": {
     "iopub.execute_input": "2020-12-21T17:47:00.916181Z",
     "iopub.status.busy": "2020-12-21T17:47:00.915233Z",
     "iopub.status.idle": "2020-12-21T17:47:02.209323Z",
     "shell.execute_reply": "2020-12-21T17:47:02.209888Z"
    },
    "papermill": {
     "duration": 1.373261,
     "end_time": "2020-12-21T17:47:02.210072",
     "exception": false,
     "start_time": "2020-12-21T17:47:00.836811",
     "status": "completed"
    },
    "tags": []
   },
   "outputs": [
    {
     "data": {
      "image/png": "[encoded data removed]",
      "text/plain": [
       "<Figure size 864x432 with 1 Axes>"
      ]
     },
     "metadata": {
      "needs_background": "light"
     },
     "output_type": "display_data"
    }
   ],
   "source": [
    "plt.figure(figsize=(12,6))\n",
    "sns.histplot(data=train, x = 'addr1', hue='isFraud')\n",
    "plt.show()"
   ]
  },
  {
   "cell_type": "markdown",
   "metadata": {
    "papermill": {
     "duration": 0.073335,
     "end_time": "2020-12-21T17:47:02.367456",
     "exception": false,
     "start_time": "2020-12-21T17:47:02.294121",
     "status": "completed"
    },
    "tags": []
   },
   "source": [
    "`addr2` - This is the billing country."
   ]
  },
  {
   "cell_type": "code",
   "execution_count": 29,
   "metadata": {
    "execution": {
     "iopub.execute_input": "2020-12-21T17:47:02.525417Z",
     "iopub.status.busy": "2020-12-21T17:47:02.524754Z",
     "iopub.status.idle": "2020-12-21T17:47:09.468638Z",
     "shell.execute_reply": "2020-12-21T17:47:09.467901Z"
    },
    "papermill": {
     "duration": 7.026485,
     "end_time": "2020-12-21T17:47:09.468766",
     "exception": false,
     "start_time": "2020-12-21T17:47:02.442281",
     "status": "completed"
    },
    "tags": []
   },
   "outputs": [
    {
     "name": "stdout",
     "output_type": "stream",
     "text": [
      "addr2 value counts: \n",
      "87.0    520481\n",
      "NaN      65706\n",
      "60.0      3084\n",
      "96.0       638\n",
      "32.0        91\n",
      "65.0        82\n",
      "16.0        55\n",
      "31.0        47\n",
      "19.0        33\n",
      "26.0        25\n",
      "Name: addr2, dtype: int64\n",
      "addr2 fraud weights: \n",
      "   addr2     count  weight fraud\n",
      "0   65.0      82.0      0.536585\n",
      "1   96.0     638.0      0.139498\n",
      "2    NaN   65706.0      0.117813\n",
      "3   60.0    3084.0      0.090467\n",
      "4   32.0      91.0      0.065934\n",
      "5   87.0  520481.0      0.023972\n",
      "6   16.0      55.0      0.000000\n",
      "7   31.0      47.0      0.000000\n",
      "8   19.0      33.0      0.000000\n",
      "9   26.0      25.0      0.000000\n",
      "addr2 correlations: \n",
      "addr2    1.000000\n",
      "V79      0.890125\n",
      "V57      0.876965\n",
      "V58      0.876798\n",
      "V15      0.819340\n",
      "V16      0.712508\n",
      "V51      0.632249\n",
      "V94      0.607043\n",
      "V33      0.603107\n",
      "V73      0.569617\n",
      "card3    0.569108\n",
      "V52      0.558352\n",
      "V34      0.518160\n",
      "V50      0.513401\n",
      "V71      0.499160\n",
      "dtype: float64\n"
     ]
    }
   ],
   "source": [
    "print('addr2 value counts: \\n', train.addr2.value_counts(dropna=False).head(10), sep='')\n",
    "print('addr2 fraud weights: \\n', get_fraud_weights(train.addr2), sep='') # Country 65 has ~50% of fraud!!\n",
    "print('addr2 correlations: \\n', abs(train.corrwith(train.addr2)).sort_values(ascending = False).head(15), sep='') # High correlation with card3"
   ]
  },
  {
   "cell_type": "code",
   "execution_count": 30,
   "metadata": {
    "execution": {
     "iopub.execute_input": "2020-12-21T17:47:09.625017Z",
     "iopub.status.busy": "2020-12-21T17:47:09.624409Z",
     "iopub.status.idle": "2020-12-21T17:47:10.053619Z",
     "shell.execute_reply": "2020-12-21T17:47:10.054130Z"
    },
    "papermill": {
     "duration": 0.509111,
     "end_time": "2020-12-21T17:47:10.054271",
     "exception": false,
     "start_time": "2020-12-21T17:47:09.545160",
     "status": "completed"
    },
    "tags": []
   },
   "outputs": [
    {
     "data": {
      "image/png": "[encoded data removed]",
      "text/plain": [
       "<Figure size 864x432 with 1 Axes>"
      ]
     },
     "metadata": {
      "needs_background": "light"
     },
     "output_type": "display_data"
    }
   ],
   "source": [
    "plt.figure(figsize=(12,6))\n",
    "sns.histplot(data=train, x = 'addr2', hue='isFraud')\n",
    "plt.show()"
   ]
  },
  {
   "cell_type": "code",
   "execution_count": 31,
   "metadata": {
    "execution": {
     "iopub.execute_input": "2020-12-21T17:47:10.212346Z",
     "iopub.status.busy": "2020-12-21T17:47:10.211670Z",
     "iopub.status.idle": "2020-12-21T17:47:10.482604Z",
     "shell.execute_reply": "2020-12-21T17:47:10.481877Z"
    },
    "papermill": {
     "duration": 0.35199,
     "end_time": "2020-12-21T17:47:10.482713",
     "exception": false,
     "start_time": "2020-12-21T17:47:10.130723",
     "status": "completed"
    },
    "tags": []
   },
   "outputs": [
    {
     "name": "stdout",
     "output_type": "stream",
     "text": [
      "addr1 null if addr not null (train): (0, 405)\n",
      "addr2 null if add2 not null (train): (0, 405)\n",
      "addr1 null if addr not null (test): (0, 404)\n",
      "addr2 null if add2 not null (test): (0, 404)\n"
     ]
    }
   ],
   "source": [
    "##### Inspecting addr1 and addr2 Nans\n",
    "# When addr1 is null, then addr2 is null too (and the other way around). Try filling NaNs with -999.\n",
    "\n",
    "print('addr1 null if addr not null (train):', train.query('addr1!=addr1 & addr2==addr2').shape)\n",
    "print('addr2 null if add2 not null (train):', train.query('addr2!=addr2 & addr1==addr1').shape)\n",
    "print('addr1 null if addr not null (test):' , test.query('addr1!=addr1 & addr2==addr2').shape)\n",
    "print('addr2 null if add2 not null (test):' , test.query('addr2!=addr2 & addr1==addr1').shape)"
   ]
  },
  {
   "cell_type": "markdown",
   "metadata": {
    "papermill": {
     "duration": 0.077177,
     "end_time": "2020-12-21T17:47:10.635557",
     "exception": false,
     "start_time": "2020-12-21T17:47:10.558380",
     "status": "completed"
    },
    "tags": []
   },
   "source": [
    "`P_emaildomain` - This is the mail domain of the purchaser."
   ]
  },
  {
   "cell_type": "code",
   "execution_count": 32,
   "metadata": {
    "execution": {
     "iopub.execute_input": "2020-12-21T17:47:10.864677Z",
     "iopub.status.busy": "2020-12-21T17:47:10.838087Z",
     "iopub.status.idle": "2020-12-21T17:47:12.807365Z",
     "shell.execute_reply": "2020-12-21T17:47:12.805733Z"
    },
    "papermill": {
     "duration": 2.094219,
     "end_time": "2020-12-21T17:47:12.807589",
     "exception": false,
     "start_time": "2020-12-21T17:47:10.713370",
     "status": "completed"
    },
    "tags": []
   },
   "outputs": [
    {
     "name": "stdout",
     "output_type": "stream",
     "text": [
      "P_emaildomain value counts: \n",
      "gmail.com        228355\n",
      "yahoo.com        100934\n",
      "NaN               94456\n",
      "hotmail.com       45250\n",
      "anonymous.com     36998\n",
      "aol.com           28289\n",
      "comcast.net        7888\n",
      "icloud.com         6267\n",
      "outlook.com        5096\n",
      "msn.com            4092\n",
      "Name: P_emaildomain, dtype: int64\n",
      "P_emaildomain fraud weights: \n",
      ":   P_emaildomain   count  weight fraud\n",
      "0    outlook.com    5096      0.094584\n",
      "1    hotmail.com   45250      0.052950\n",
      "2      gmail.com  228355      0.043542\n",
      "3     icloud.com    6267      0.031434\n",
      "4    comcast.net    7888      0.031187\n",
      "5            NaN   94456      0.029538\n",
      "6  anonymous.com   36998      0.023217\n",
      "7      yahoo.com  100934      0.022757\n",
      "9        msn.com    4092      0.021994\n",
      "8        aol.com   28289      0.021811\n"
     ]
    }
   ],
   "source": [
    "# NaNs to be filled with the mode of the card, the rest with unknown and then to -999\n",
    "\n",
    "print('P_emaildomain value counts: \\n', train.P_emaildomain.value_counts(dropna=False).head(10), sep='')\n",
    "print('P_emaildomain fraud weights: \\n:', get_fraud_weights(train.P_emaildomain), sep='')"
   ]
  },
  {
   "cell_type": "code",
   "execution_count": 33,
   "metadata": {
    "execution": {
     "iopub.execute_input": "2020-12-21T17:47:13.071002Z",
     "iopub.status.busy": "2020-12-21T17:47:13.069988Z",
     "iopub.status.idle": "2020-12-21T17:47:14.517305Z",
     "shell.execute_reply": "2020-12-21T17:47:14.516768Z"
    },
    "papermill": {
     "duration": 1.594873,
     "end_time": "2020-12-21T17:47:14.517396",
     "exception": false,
     "start_time": "2020-12-21T17:47:12.922523",
     "status": "completed"
    },
    "tags": []
   },
   "outputs": [
    {
     "data": {
      "image/png": "[encoded data removed]",
      "text/plain": [
       "<Figure size 864x432 with 1 Axes>"
      ]
     },
     "metadata": {
      "needs_background": "light"
     },
     "output_type": "display_data"
    }
   ],
   "source": [
    "plt.figure(figsize=(12,6))\n",
    "sns.countplot(data=train, x = 'P_emaildomain', hue='isFraud')\n",
    "plt.xticks(rotation=90)\n",
    "plt.show()"
   ]
  },
  {
   "cell_type": "markdown",
   "metadata": {
    "papermill": {
     "duration": 0.055889,
     "end_time": "2020-12-21T17:47:14.629410",
     "exception": false,
     "start_time": "2020-12-21T17:47:14.573521",
     "status": "completed"
    },
    "tags": []
   },
   "source": [
    "`R_emaildomain` - This is the mail domain of the recipient."
   ]
  },
  {
   "cell_type": "code",
   "execution_count": 34,
   "metadata": {
    "execution": {
     "iopub.execute_input": "2020-12-21T17:47:14.847995Z",
     "iopub.status.busy": "2020-12-21T17:47:14.818148Z",
     "iopub.status.idle": "2020-12-21T17:47:16.579440Z",
     "shell.execute_reply": "2020-12-21T17:47:16.578248Z"
    },
    "papermill": {
     "duration": 1.894448,
     "end_time": "2020-12-21T17:47:16.579559",
     "exception": false,
     "start_time": "2020-12-21T17:47:14.685111",
     "status": "completed"
    },
    "tags": []
   },
   "outputs": [
    {
     "name": "stdout",
     "output_type": "stream",
     "text": [
      "R_emaildomain value counts: \n",
      "NaN              453249\n",
      "gmail.com         57147\n",
      "hotmail.com       27509\n",
      "anonymous.com     20529\n",
      "yahoo.com         11842\n",
      "aol.com            3701\n",
      "outlook.com        2507\n",
      "comcast.net        1812\n",
      "yahoo.com.mx       1508\n",
      "icloud.com         1398\n",
      "Name: R_emaildomain, dtype: int64\n",
      "R_emaildomain fraud weights: \n",
      ":   R_emaildomain     count  weight fraud\n",
      "0    outlook.com    2507.0      0.165138\n",
      "9     icloud.com    1398.0      0.128755\n",
      "1      gmail.com   57147.0      0.119184\n",
      "2    hotmail.com   27509.0      0.077793\n",
      "3      yahoo.com   11842.0      0.051512\n",
      "4        aol.com    3701.0      0.034855\n",
      "5  anonymous.com   20529.0      0.029130\n",
      "6            NaN  453249.0      0.020819\n",
      "7    comcast.net    1812.0      0.011589\n",
      "8   yahoo.com.mx    1508.0      0.010610\n"
     ]
    }
   ],
   "source": [
    "# NaNs to be filled with the mode of the card, the rest with unknown and then to -999\n",
    "\n",
    "print('R_emaildomain value counts: \\n', train.R_emaildomain.value_counts(dropna=False).head(10), sep='')\n",
    "print('R_emaildomain fraud weights: \\n:', get_fraud_weights(train.R_emaildomain), sep='')"
   ]
  },
  {
   "cell_type": "code",
   "execution_count": 35,
   "metadata": {
    "execution": {
     "iopub.execute_input": "2020-12-21T17:47:16.769599Z",
     "iopub.status.busy": "2020-12-21T17:47:16.768929Z",
     "iopub.status.idle": "2020-12-21T17:47:17.894163Z",
     "shell.execute_reply": "2020-12-21T17:47:17.893503Z"
    },
    "papermill": {
     "duration": 1.236652,
     "end_time": "2020-12-21T17:47:17.894268",
     "exception": false,
     "start_time": "2020-12-21T17:47:16.657616",
     "status": "completed"
    },
    "tags": []
   },
   "outputs": [
    {
     "data": {
      "image/png": "[encoded data removed]",
      "text/plain": [
       "<Figure size 864x432 with 1 Axes>"
      ]
     },
     "metadata": {
      "needs_background": "light"
     },
     "output_type": "display_data"
    }
   ],
   "source": [
    "plt.figure(figsize=(12,6))\n",
    "sns.countplot(data=train, x = 'R_emaildomain', hue='isFraud')\n",
    "plt.xticks(rotation=90)\n",
    "plt.show()"
   ]
  },
  {
   "cell_type": "markdown",
   "metadata": {
    "papermill": {
     "duration": 0.082644,
     "end_time": "2020-12-21T17:47:18.059398",
     "exception": false,
     "start_time": "2020-12-21T17:47:17.976754",
     "status": "completed"
    },
    "tags": []
   },
   "source": [
    "`dist1` - Distance between, but not limited to, billing address, delivery address, telephonic area, etc."
   ]
  },
  {
   "cell_type": "code",
   "execution_count": 36,
   "metadata": {
    "execution": {
     "iopub.execute_input": "2020-12-21T17:47:18.232609Z",
     "iopub.status.busy": "2020-12-21T17:47:18.231740Z",
     "iopub.status.idle": "2020-12-21T17:47:23.414108Z",
     "shell.execute_reply": "2020-12-21T17:47:23.414965Z"
    },
    "papermill": {
     "duration": 5.274357,
     "end_time": "2020-12-21T17:47:23.415171",
     "exception": false,
     "start_time": "2020-12-21T17:47:18.140814",
     "status": "completed"
    },
    "tags": []
   },
   "outputs": [
    {
     "name": "stdout",
     "output_type": "stream",
     "text": [
      "dist1 value counts: \n",
      "NaN    352271\n",
      "0.0     19824\n",
      "1.0     18330\n",
      "2.0     17028\n",
      "4.0     13067\n",
      "3.0     12808\n",
      "5.0     12004\n",
      "6.0      9843\n",
      "7.0      9340\n",
      "8.0      7731\n",
      "Name: dist1, dtype: int64\n",
      "dist1 fraud weights: \n",
      "   dist1     count  weight fraud\n",
      "0    NaN  352271.0      0.045158\n",
      "1    1.0   18330.0      0.027932\n",
      "2    5.0   12004.0      0.022243\n",
      "3    0.0   19824.0      0.019169\n",
      "4    4.0   13067.0      0.016454\n",
      "9    8.0    7731.0      0.015134\n",
      "5    7.0    9340.0      0.014668\n",
      "6    6.0    9843.0      0.014630\n",
      "7    2.0   17028.0      0.011745\n",
      "8    3.0   12808.0      0.011711\n",
      "dist1 correlations: \n",
      "dist1      1.000000\n",
      "V8         0.094938\n",
      "V9         0.088465\n",
      "V2         0.079191\n",
      "V6         0.076624\n",
      "V3         0.067514\n",
      "V5         0.066096\n",
      "V7         0.064196\n",
      "V4         0.063953\n",
      "D11achr    0.059458\n",
      "D10achr    0.058492\n",
      "V298       0.042840\n",
      "V296       0.042598\n",
      "V280       0.041627\n",
      "D15achr    0.039997\n",
      "dtype: float64\n"
     ]
    }
   ],
   "source": [
    "print('dist1 value counts: \\n', train.dist1.value_counts(dropna=False).head(10), sep='')\n",
    "print('dist1 fraud weights: \\n', get_fraud_weights(train.dist1), sep='')\n",
    "print('dist1 correlations: \\n', train.corrwith(train.dist1).sort_values(ascending = False).head(15), sep='')"
   ]
  },
  {
   "cell_type": "code",
   "execution_count": 37,
   "metadata": {
    "execution": {
     "iopub.execute_input": "2020-12-21T17:47:23.601918Z",
     "iopub.status.busy": "2020-12-21T17:47:23.601114Z",
     "iopub.status.idle": "2020-12-21T17:47:24.169581Z",
     "shell.execute_reply": "2020-12-21T17:47:24.168924Z"
    },
    "papermill": {
     "duration": 0.65938,
     "end_time": "2020-12-21T17:47:24.169686",
     "exception": false,
     "start_time": "2020-12-21T17:47:23.510306",
     "status": "completed"
    },
    "tags": []
   },
   "outputs": [
    {
     "data": {
      "image/png": "[encoded data removed]",
      "text/plain": [
       "<Figure size 864x432 with 1 Axes>"
      ]
     },
     "metadata": {
      "needs_background": "light"
     },
     "output_type": "display_data"
    }
   ],
   "source": [
    "plt.figure(figsize=(12,6))\n",
    "sns.histplot(data=train, x = 'dist1', hue='isFraud', bins=35)\n",
    "plt.show()"
   ]
  },
  {
   "cell_type": "markdown",
   "metadata": {
    "papermill": {
     "duration": 0.08218,
     "end_time": "2020-12-21T17:47:24.334858",
     "exception": false,
     "start_time": "2020-12-21T17:47:24.252678",
     "status": "completed"
    },
    "tags": []
   },
   "source": [
    "`dist2` - Distance between, but not limited to, billing address, delivery address, telephonic area, etc."
   ]
  },
  {
   "cell_type": "code",
   "execution_count": 38,
   "metadata": {
    "execution": {
     "iopub.execute_input": "2020-12-21T17:47:24.504194Z",
     "iopub.status.busy": "2020-12-21T17:47:24.503531Z",
     "iopub.status.idle": "2020-12-21T17:47:29.470373Z",
     "shell.execute_reply": "2020-12-21T17:47:29.469608Z"
    },
    "papermill": {
     "duration": 5.053595,
     "end_time": "2020-12-21T17:47:29.470520",
     "exception": false,
     "start_time": "2020-12-21T17:47:24.416925",
     "status": "completed"
    },
    "tags": []
   },
   "outputs": [
    {
     "name": "stdout",
     "output_type": "stream",
     "text": [
      "dist2 value counts: \n",
      "NaN     552913\n",
      "7.0       5687\n",
      "0.0       3519\n",
      "1.0       1374\n",
      "9.0        742\n",
      "4.0        659\n",
      "2.0        556\n",
      "3.0        490\n",
      "68.0       485\n",
      "6.0        412\n",
      "Name: dist2, dtype: int64\n",
      "dist2 fraud weights: \n",
      "   dist2     count  weight fraud\n",
      "0    0.0    3519.0      0.153453\n",
      "1    9.0     742.0      0.148248\n",
      "2    1.0    1374.0      0.139738\n",
      "3   68.0     485.0      0.096907\n",
      "4    7.0    5687.0      0.087216\n",
      "5    3.0     490.0      0.077551\n",
      "6    4.0     659.0      0.071320\n",
      "7    2.0     556.0      0.035971\n",
      "8    NaN  552913.0      0.030623\n",
      "9    6.0     412.0      0.024272\n",
      "dist2 correlations: \n",
      "dist2      1.000000\n",
      "V192       0.102090\n",
      "V187       0.094572\n",
      "V193       0.091043\n",
      "V234       0.076003\n",
      "V191       0.066564\n",
      "D12achr    0.065523\n",
      "V196       0.063578\n",
      "V203       0.058230\n",
      "V215       0.052907\n",
      "V207       0.051919\n",
      "D4achr     0.049898\n",
      "V172       0.049451\n",
      "V43        0.045304\n",
      "V180       0.045130\n",
      "dtype: float64\n"
     ]
    }
   ],
   "source": [
    "print('dist2 value counts: \\n', train.dist2.value_counts(dropna=False).head(10), sep='')\n",
    "print('dist2 fraud weights: \\n', get_fraud_weights(train.dist2), sep='')\n",
    "print('dist2 correlations: \\n', train.corrwith(train.dist2).sort_values(ascending = False).head(15), sep='')"
   ]
  },
  {
   "cell_type": "code",
   "execution_count": 39,
   "metadata": {
    "execution": {
     "iopub.execute_input": "2020-12-21T17:47:29.732448Z",
     "iopub.status.busy": "2020-12-21T17:47:29.731186Z",
     "iopub.status.idle": "2020-12-21T17:47:30.248208Z",
     "shell.execute_reply": "2020-12-21T17:47:30.247635Z"
    },
    "papermill": {
     "duration": 0.650655,
     "end_time": "2020-12-21T17:47:30.248325",
     "exception": false,
     "start_time": "2020-12-21T17:47:29.597670",
     "status": "completed"
    },
    "tags": []
   },
   "outputs": [
    {
     "data": {
      "image/png": "[encoded data removed]",
      "text/plain": [
       "<Figure size 864x432 with 1 Axes>"
      ]
     },
     "metadata": {
      "needs_background": "light"
     },
     "output_type": "display_data"
    }
   ],
   "source": [
    "plt.figure(figsize=(12,6))\n",
    "sns.histplot(data=train, x = 'dist2', hue='isFraud', bins=35)\n",
    "plt.show()"
   ]
  },
  {
   "cell_type": "markdown",
   "metadata": {
    "papermill": {
     "duration": 0.097584,
     "end_time": "2020-12-21T17:47:30.435954",
     "exception": false,
     "start_time": "2020-12-21T17:47:30.338370",
     "status": "completed"
    },
    "tags": []
   },
   "source": [
    "`Di columns`"
   ]
  },
  {
   "cell_type": "code",
   "execution_count": 40,
   "metadata": {
    "execution": {
     "iopub.execute_input": "2020-12-21T17:47:30.616720Z",
     "iopub.status.busy": "2020-12-21T17:47:30.616082Z",
     "iopub.status.idle": "2020-12-21T17:47:30.934294Z",
     "shell.execute_reply": "2020-12-21T17:47:30.933547Z"
    },
    "papermill": {
     "duration": 0.410943,
     "end_time": "2020-12-21T17:47:30.934455",
     "exception": false,
     "start_time": "2020-12-21T17:47:30.523512",
     "status": "completed"
    },
    "tags": []
   },
   "outputs": [
    {
     "name": "stdout",
     "output_type": "stream",
     "text": [
      "D1 : 641\n",
      "D2 : 641\n",
      "D3 : 649\n",
      "D4 : 808\n",
      "D5 : 688\n",
      "D6 : 829\n",
      "D7 : 597\n",
      "D8 : 12353\n",
      "D9 : 24\n",
      "D10 : 818\n",
      "D11 : 676\n",
      "D12 : 635\n",
      "D13 : 577\n",
      "D14 : 802\n",
      "D15 : 859\n",
      "##################################################\n",
      "denominator D8 : 24\n",
      "denominator D9 : 24\n"
     ]
    }
   ],
   "source": [
    "# All are in days, except D8 and probably D9. D8, D9 look they are in hours, not in days.\n",
    "\n",
    "for col in list(train.iloc[:,31:46]):\n",
    "    print(col, ':', len(train[col].value_counts()))\n",
    "    \n",
    "print('#' * 50)    \n",
    "get_denominator(train['D8'])\n",
    "get_denominator(train['D9'])"
   ]
  },
  {
   "cell_type": "code",
   "execution_count": 41,
   "metadata": {
    "execution": {
     "iopub.execute_input": "2020-12-21T17:47:31.120394Z",
     "iopub.status.busy": "2020-12-21T17:47:31.119733Z",
     "iopub.status.idle": "2020-12-21T17:47:33.281566Z",
     "shell.execute_reply": "2020-12-21T17:47:33.282334Z"
    },
    "papermill": {
     "duration": 2.259758,
     "end_time": "2020-12-21T17:47:33.282537",
     "exception": false,
     "start_time": "2020-12-21T17:47:31.022779",
     "status": "completed"
    },
    "tags": []
   },
   "outputs": [
    {
     "name": "stdout",
     "output_type": "stream",
     "text": [
      "             D1        D2        D3        D4        D5       D6       D7  \\\n",
      "count  589271.0  309743.0  327662.0  421618.0  280699.0  73187.0  38917.0   \n",
      "mean        NaN       NaN       NaN       NaN       NaN      NaN      inf   \n",
      "std         NaN       NaN       NaN       NaN       NaN      NaN      inf   \n",
      "min         0.0       0.0       0.0    -122.0       0.0    -83.0      0.0   \n",
      "25%         0.0      26.0       1.0       0.0       1.0      0.0      0.0   \n",
      "50%         3.0      97.0       8.0      26.0      10.0      0.0      0.0   \n",
      "75%       122.0     276.0      27.0     253.0      32.0     40.0     17.0   \n",
      "max       640.0     640.0     819.0     869.0     819.0    873.0    843.0   \n",
      "\n",
      "                 D8            D9       D10       D11      D12      D13  \\\n",
      "count  74926.000000  74926.000000  514518.0  311253.0  64717.0  61952.0   \n",
      "mean     146.088898      0.560059       NaN       NaN      inf      inf   \n",
      "std      231.653519      0.316650       NaN       NaN      inf      inf   \n",
      "min        0.000000      0.000000       0.0     -53.0    -83.0      0.0   \n",
      "25%        0.958333      0.208374       0.0       0.0      0.0      0.0   \n",
      "50%       37.875000      0.666504      15.0      43.0      0.0      0.0   \n",
      "75%      187.958328      0.833496     197.0     274.0     13.0      0.0   \n",
      "max     1707.791626      0.958496     876.0     670.0    648.0    847.0   \n",
      "\n",
      "           D14       D15  \n",
      "count  62187.0  501427.0  \n",
      "mean       inf       NaN  \n",
      "std        inf       NaN  \n",
      "min     -193.0     -83.0  \n",
      "25%        0.0       0.0  \n",
      "50%        0.0      52.0  \n",
      "75%        2.0     314.0  \n",
      "max      878.0     879.0  \n",
      "\n",
      "D null count: \n",
      "D1     0.002149\n",
      "D2     0.475492\n",
      "D3     0.445149\n",
      "D4     0.286047\n",
      "D5     0.524674\n",
      "D6     0.876068\n",
      "D7     0.934099\n",
      "D8     0.873123\n",
      "D9     0.873123\n",
      "D10    0.128733\n",
      "D11    0.472935\n",
      "D12    0.890410\n",
      "D13    0.895093\n",
      "D14    0.894695\n",
      "D15    0.150901\n",
      "dtype: float64\n"
     ]
    }
   ],
   "source": [
    "# D6, D7, D8, D9, D12, D13, D14 about 90% nulls\n",
    "\n",
    "print(train.iloc[:,31:46].describe())\n",
    "print()\n",
    "print('D null count: \\n', train.iloc[:,31:46].isnull().sum()/train.shape[0], sep='')"
   ]
  },
  {
   "cell_type": "code",
   "execution_count": 42,
   "metadata": {
    "execution": {
     "iopub.execute_input": "2020-12-21T17:47:33.474475Z",
     "iopub.status.busy": "2020-12-21T17:47:33.473191Z",
     "iopub.status.idle": "2020-12-21T17:47:35.179275Z",
     "shell.execute_reply": "2020-12-21T17:47:35.178714Z"
    },
    "papermill": {
     "duration": 1.801172,
     "end_time": "2020-12-21T17:47:35.179363",
     "exception": false,
     "start_time": "2020-12-21T17:47:33.378191",
     "status": "completed"
    },
    "tags": []
   },
   "outputs": [
    {
     "data": {
      "image/png": "[encoded data removed]",
      "text/plain": [
       "<Figure size 720x720 with 2 Axes>"
      ]
     },
     "metadata": {
      "needs_background": "light"
     },
     "output_type": "display_data"
    }
   ],
   "source": [
    "plt.figure(figsize=(10,10))\n",
    "sns.heatmap(train.iloc[:,31:46].corr(), annot=True, fmt='.2g', cmap='Reds')\n",
    "plt.show()"
   ]
  },
  {
   "cell_type": "code",
   "execution_count": 43,
   "metadata": {
    "execution": {
     "iopub.execute_input": "2020-12-21T17:47:35.319401Z",
     "iopub.status.busy": "2020-12-21T17:47:35.318505Z",
     "iopub.status.idle": "2020-12-21T17:47:35.367299Z",
     "shell.execute_reply": "2020-12-21T17:47:35.366570Z"
    },
    "papermill": {
     "duration": 0.124094,
     "end_time": "2020-12-21T17:47:35.367416",
     "exception": false,
     "start_time": "2020-12-21T17:47:35.243322",
     "status": "completed"
    },
    "tags": []
   },
   "outputs": [
    {
     "data": {
      "text/html": [
       "<div>\n",
       "<style scoped>\n",
       "    .dataframe tbody tr th:only-of-type {\n",
       "        vertical-align: middle;\n",
       "    }\n",
       "\n",
       "    .dataframe tbody tr th {\n",
       "        vertical-align: top;\n",
       "    }\n",
       "\n",
       "    .dataframe thead th {\n",
       "        text-align: right;\n",
       "    }\n",
       "</style>\n",
       "<table border=\"1\" class=\"dataframe\">\n",
       "  <thead>\n",
       "    <tr style=\"text-align: right;\">\n",
       "      <th></th>\n",
       "      <th>D3</th>\n",
       "      <th>D5</th>\n",
       "      <th>D7</th>\n",
       "    </tr>\n",
       "  </thead>\n",
       "  <tbody>\n",
       "    <tr>\n",
       "      <th>42066</th>\n",
       "      <td>357.0</td>\n",
       "      <td>357.0</td>\n",
       "      <td>177.0</td>\n",
       "    </tr>\n",
       "    <tr>\n",
       "      <th>45454</th>\n",
       "      <td>379.0</td>\n",
       "      <td>379.0</td>\n",
       "      <td>673.0</td>\n",
       "    </tr>\n",
       "    <tr>\n",
       "      <th>45755</th>\n",
       "      <td>141.0</td>\n",
       "      <td>141.0</td>\n",
       "      <td>365.0</td>\n",
       "    </tr>\n",
       "    <tr>\n",
       "      <th>48574</th>\n",
       "      <td>180.0</td>\n",
       "      <td>180.0</td>\n",
       "      <td>1.0</td>\n",
       "    </tr>\n",
       "    <tr>\n",
       "      <th>51616</th>\n",
       "      <td>202.0</td>\n",
       "      <td>202.0</td>\n",
       "      <td>356.0</td>\n",
       "    </tr>\n",
       "    <tr>\n",
       "      <th>68517</th>\n",
       "      <td>139.0</td>\n",
       "      <td>139.0</td>\n",
       "      <td>183.0</td>\n",
       "    </tr>\n",
       "    <tr>\n",
       "      <th>70325</th>\n",
       "      <td>366.0</td>\n",
       "      <td>366.0</td>\n",
       "      <td>185.0</td>\n",
       "    </tr>\n",
       "    <tr>\n",
       "      <th>72234</th>\n",
       "      <td>54.0</td>\n",
       "      <td>54.0</td>\n",
       "      <td>364.0</td>\n",
       "    </tr>\n",
       "    <tr>\n",
       "      <th>74372</th>\n",
       "      <td>0.0</td>\n",
       "      <td>356.0</td>\n",
       "      <td>367.0</td>\n",
       "    </tr>\n",
       "    <tr>\n",
       "      <th>77313</th>\n",
       "      <td>41.0</td>\n",
       "      <td>41.0</td>\n",
       "      <td>215.0</td>\n",
       "    </tr>\n",
       "  </tbody>\n",
       "</table>\n",
       "</div>"
      ],
      "text/plain": [
       "          D3     D5     D7\n",
       "42066  357.0  357.0  177.0\n",
       "45454  379.0  379.0  673.0\n",
       "45755  141.0  141.0  365.0\n",
       "48574  180.0  180.0    1.0\n",
       "51616  202.0  202.0  356.0\n",
       "68517  139.0  139.0  183.0\n",
       "70325  366.0  366.0  185.0\n",
       "72234   54.0   54.0  364.0\n",
       "74372    0.0  356.0  367.0\n",
       "77313   41.0   41.0  215.0"
      ]
     },
     "execution_count": 43,
     "metadata": {},
     "output_type": "execute_result"
    }
   ],
   "source": [
    "#D3 days from the previous card transaction, D5 and D7 looks something similar. D3 and D5 quite similar. Probably we will remove D7, but due to it gets 93% of NaNs.\n",
    "\n",
    "train.iloc[:,31:46].query('D3==D3 & D5==D5 & D7==D7 & D5!=D7')[['D3', 'D5', 'D7']].head(10)"
   ]
  },
  {
   "cell_type": "markdown",
   "metadata": {
    "papermill": {
     "duration": 0.095256,
     "end_time": "2020-12-21T17:47:35.555100",
     "exception": false,
     "start_time": "2020-12-21T17:47:35.459844",
     "status": "completed"
    },
    "tags": []
   },
   "source": [
    "# Adversarial Validation"
   ]
  },
  {
   "cell_type": "markdown",
   "metadata": {
    "papermill": {
     "duration": 0.092815,
     "end_time": "2020-12-21T17:47:35.738821",
     "exception": false,
     "start_time": "2020-12-21T17:47:35.646006",
     "status": "completed"
    },
    "tags": []
   },
   "source": [
    "## Analysis of the first 54 columns"
   ]
  },
  {
   "cell_type": "code",
   "execution_count": 44,
   "metadata": {
    "execution": {
     "iopub.execute_input": "2020-12-21T17:47:35.935124Z",
     "iopub.status.busy": "2020-12-21T17:47:35.934442Z",
     "iopub.status.idle": "2020-12-21T17:47:37.474672Z",
     "shell.execute_reply": "2020-12-21T17:47:37.473983Z"
    },
    "papermill": {
     "duration": 1.643779,
     "end_time": "2020-12-21T17:47:37.474778",
     "exception": false,
     "start_time": "2020-12-21T17:47:35.830999",
     "status": "completed"
    },
    "tags": []
   },
   "outputs": [
    {
     "data": {
      "text/plain": [
       "22557"
      ]
     },
     "execution_count": 44,
     "metadata": {},
     "output_type": "execute_result"
    }
   ],
   "source": [
    "##### Adding the Dxachr columns to perform the validation instead of de original Ds. These columns already come from the binaries loaded.\n",
    "\n",
    "train_til_M = train.iloc[:,:55].copy()\n",
    "train_til_M = train_til_M.drop('isFraud', axis=1)\n",
    "train_til_M['is_train'] = 1\n",
    "\n",
    "train_til_M = pd.concat([train_til_M, train.iloc[:,-10:]], axis=1)\n",
    "\n",
    "test_til_M = test.iloc[:,:54].copy()\n",
    "test_til_M['is_train'] = 0\n",
    "test_til_M = pd.concat([test_til_M, test.iloc[:,-10:]], axis=1)\n",
    "\n",
    "train_test_til_M = pd.concat([train_til_M, test_til_M], axis=0, ignore_index=True)\n",
    "\n",
    "del train_til_M\n",
    "del test_til_M\n",
    "\n",
    "gc.collect()"
   ]
  },
  {
   "cell_type": "code",
   "execution_count": 45,
   "metadata": {
    "execution": {
     "iopub.execute_input": "2020-12-21T17:47:37.671077Z",
     "iopub.status.busy": "2020-12-21T17:47:37.670434Z",
     "iopub.status.idle": "2020-12-21T17:47:44.774242Z",
     "shell.execute_reply": "2020-12-21T17:47:44.772685Z"
    },
    "papermill": {
     "duration": 7.203222,
     "end_time": "2020-12-21T17:47:44.774355",
     "exception": false,
     "start_time": "2020-12-21T17:47:37.571133",
     "status": "completed"
    },
    "tags": []
   },
   "outputs": [],
   "source": [
    "##### Basic Fill NaNs for LGBM: Get categories and preprocess with Label Encoder.\n",
    "\n",
    "categ_cols = ['ProductCD', 'card4', 'card6', 'P_emaildomain', 'R_emaildomain']\n",
    "categ_cols += ['M'+str(i) for i in range(1,10)]\n",
    "\n",
    "# Replace null by not_know\n",
    "train_test_til_M.loc[:,categ_cols] = train_test_til_M[categ_cols].fillna('not_know')\n",
    "\n",
    "# Label Encoder\n",
    "le = LabelEncoder()\n",
    "for col in categ_cols:\n",
    "    le.fit(train_test_til_M[col])\n",
    "    train_test_til_M[col] = le.transform(train_test_til_M[col])"
   ]
  },
  {
   "cell_type": "code",
   "execution_count": 46,
   "metadata": {
    "execution": {
     "iopub.execute_input": "2020-12-21T17:47:44.959877Z",
     "iopub.status.busy": "2020-12-21T17:47:44.959094Z",
     "iopub.status.idle": "2020-12-21T17:47:45.382298Z",
     "shell.execute_reply": "2020-12-21T17:47:45.381730Z"
    },
    "papermill": {
     "duration": 0.518366,
     "end_time": "2020-12-21T17:47:45.382415",
     "exception": false,
     "start_time": "2020-12-21T17:47:44.864049",
     "status": "completed"
    },
    "tags": []
   },
   "outputs": [],
   "source": [
    "##### Adversarial Validation - sample\n",
    "\n",
    "adversarial_val   = train_test_til_M.sample(200000, replace=False)\n",
    "adversarial_train = train_test_til_M[~train_test_til_M.index.isin(adversarial_val.index)]"
   ]
  },
  {
   "cell_type": "code",
   "execution_count": 47,
   "metadata": {
    "execution": {
     "iopub.execute_input": "2020-12-21T17:47:45.578770Z",
     "iopub.status.busy": "2020-12-21T17:47:45.578125Z",
     "iopub.status.idle": "2020-12-21T17:47:45.582643Z",
     "shell.execute_reply": "2020-12-21T17:47:45.582092Z"
    },
    "papermill": {
     "duration": 0.107324,
     "end_time": "2020-12-21T17:47:45.582746",
     "exception": false,
     "start_time": "2020-12-21T17:47:45.475422",
     "status": "completed"
    },
    "tags": []
   },
   "outputs": [],
   "source": [
    "##### Remove columns that we know relates to transaction and keep the rest.\n",
    "\n",
    "features = list(train_test_til_M)\n",
    "features.remove('TransactionID') \n",
    "features.remove('TransactionDT')\n",
    "features.remove('is_train')\n",
    "\n",
    "# Remove the original Dxs for those we have the engineered Dxahcrs\n",
    "columns_D = ['D' + str(i) for i in range(1,16) if i not in [3,5,7,8,9]]\n",
    "for col in columns_D: \n",
    "    features.remove(col)\n",
    "    \n",
    "# Target definition\n",
    "target = 'is_train'\n",
    "\n",
    "del train_test_til_M"
   ]
  },
  {
   "cell_type": "code",
   "execution_count": 48,
   "metadata": {
    "execution": {
     "iopub.execute_input": "2020-12-21T17:47:45.810285Z",
     "iopub.status.busy": "2020-12-21T17:47:45.809641Z",
     "iopub.status.idle": "2020-12-21T17:51:53.262825Z",
     "shell.execute_reply": "2020-12-21T17:51:53.263497Z"
    },
    "papermill": {
     "duration": 247.589377,
     "end_time": "2020-12-21T17:51:53.263659",
     "exception": false,
     "start_time": "2020-12-21T17:47:45.674282",
     "status": "completed"
    },
    "tags": []
   },
   "outputs": [
    {
     "name": "stdout",
     "output_type": "stream",
     "text": [
      "Training until validation scores don't improve for 100 rounds\n",
      "[200]\tvalid_0's auc: 0.996566\n",
      "[400]\tvalid_0's auc: 0.997565\n",
      "[600]\tvalid_0's auc: 0.997962\n",
      "[800]\tvalid_0's auc: 0.998176\n",
      "[1000]\tvalid_0's auc: 0.998306\n",
      "Did not meet early stopping. Best iteration is:\n",
      "[1000]\tvalid_0's auc: 0.998306\n"
     ]
    }
   ],
   "source": [
    "##### Adversarial validation with LGBM\n",
    "\n",
    "train_data    = lightgbm.Dataset(adversarial_train[features], label=adversarial_train[target], categorical_feature=categ_cols)\n",
    "test_data     = lightgbm.Dataset(adversarial_val[features], label=adversarial_val[target], categorical_feature=categ_cols)\n",
    "\n",
    "parameters = {\n",
    "                    'objective':'binary', # in classification, binary or multiclass\n",
    "                    'boosting_type':'gbdt', # boosting type, gradient boosting decission trees, dart, goss. Behind XGBoost\n",
    "                    'metric':'auc',\n",
    "                    'n_jobs':-1,\n",
    "                    'learning_rate':0.05,\n",
    "                    'num_leaves': 2**8,\n",
    "                    'max_depth':-1,\n",
    "                    'tree_learner':'serial',\n",
    "                    'colsample_bytree': 0.7,\n",
    "                    'subsample_freq':1,\n",
    "                    'subsample':0.5,      #each tree will use this percentage of rows (randomly). Smaller, improves generalization and speed. Not too low, as we look for overfiting.\n",
    "                    'n_estimators':1000,  #number of trees. This mean that there will be N trees, that they will be executed one after another, unless early_stopping_rounds condition is met.\n",
    "                    'max_bin':255,\n",
    "                    'verbose':-1,\n",
    "                    'early_stopping_rounds':100, \n",
    "                } \n",
    "\n",
    "model = lightgbm.train(parameters,\n",
    "                       train_data,\n",
    "                       valid_sets=test_data, verbose_eval=200)"
   ]
  },
  {
   "cell_type": "code",
   "execution_count": 49,
   "metadata": {
    "execution": {
     "iopub.execute_input": "2020-12-21T17:51:53.493352Z",
     "iopub.status.busy": "2020-12-21T17:51:53.492370Z",
     "iopub.status.idle": "2020-12-21T17:51:53.497360Z",
     "shell.execute_reply": "2020-12-21T17:51:53.498298Z"
    },
    "papermill": {
     "duration": 0.112452,
     "end_time": "2020-12-21T17:51:53.498517",
     "exception": false,
     "start_time": "2020-12-21T17:51:53.386065",
     "status": "completed"
    },
    "tags": []
   },
   "outputs": [
    {
     "name": "stdout",
     "output_type": "stream",
     "text": [
      "AUC: 0.998306073639792\n"
     ]
    }
   ],
   "source": [
    "##### AUC\n",
    "\n",
    "print('AUC:',model.best_score.get('valid_0').get('auc'))"
   ]
  },
  {
   "cell_type": "code",
   "execution_count": 50,
   "metadata": {
    "execution": {
     "iopub.execute_input": "2020-12-21T17:51:53.812543Z",
     "iopub.status.busy": "2020-12-21T17:51:53.811430Z",
     "iopub.status.idle": "2020-12-21T17:51:54.494156Z",
     "shell.execute_reply": "2020-12-21T17:51:54.494811Z"
    },
    "papermill": {
     "duration": 0.84178,
     "end_time": "2020-12-21T17:51:54.494985",
     "exception": false,
     "start_time": "2020-12-21T17:51:53.653205",
     "status": "completed"
    },
    "tags": []
   },
   "outputs": [
    {
     "data": {
      "image/png": "[encoded data removed]",
      "text/plain": [
       "<Figure size 1152x720 with 1 Axes>"
      ]
     },
     "metadata": {
      "needs_background": "light"
     },
     "output_type": "display_data"
    }
   ],
   "source": [
    "##### Feature Importance\n",
    "\n",
    "features_importance = model.feature_importance()\n",
    "features_array = np.array(features)\n",
    "features_array_ordered_i = features_array[(features_importance).argsort()[::-1]]\n",
    "\n",
    "plt.figure(figsize=(16,10))\n",
    "sns.barplot(y=features, x=features_importance, orient='h', order=features_array_ordered_i)\n",
    "plt.show()\n",
    "\n",
    "del model"
   ]
  },
  {
   "cell_type": "markdown",
   "metadata": {
    "papermill": {
     "duration": 0.141166,
     "end_time": "2020-12-21T17:51:54.776808",
     "exception": false,
     "start_time": "2020-12-21T17:51:54.635642",
     "status": "completed"
    },
    "tags": []
   },
   "source": [
    "## Analysis of V columns"
   ]
  },
  {
   "cell_type": "code",
   "execution_count": 51,
   "metadata": {
    "execution": {
     "iopub.execute_input": "2020-12-21T17:51:55.067525Z",
     "iopub.status.busy": "2020-12-21T17:51:55.066620Z",
     "iopub.status.idle": "2020-12-21T17:51:56.552582Z",
     "shell.execute_reply": "2020-12-21T17:51:56.553135Z"
    },
    "papermill": {
     "duration": 1.634104,
     "end_time": "2020-12-21T17:51:56.553291",
     "exception": false,
     "start_time": "2020-12-21T17:51:54.919187",
     "status": "completed"
    },
    "tags": []
   },
   "outputs": [
    {
     "data": {
      "text/plain": [
       "12431"
      ]
     },
     "execution_count": 51,
     "metadata": {},
     "output_type": "execute_result"
    }
   ],
   "source": [
    "train_V = train.iloc[:,55:-11:].copy()\n",
    "train_V['is_train'] = 1\n",
    "\n",
    "\n",
    "test_V = test.iloc[:,55:-11:].copy()\n",
    "test_V['is_train'] = 0\n",
    "\n",
    "train_test_V = pd.concat([train_V, test_V], axis=0, ignore_index=True)\n",
    "\n",
    "del train_V\n",
    "del test_V\n",
    "gc.collect()"
   ]
  },
  {
   "cell_type": "code",
   "execution_count": 52,
   "metadata": {
    "execution": {
     "iopub.execute_input": "2020-12-21T17:51:56.752760Z",
     "iopub.status.busy": "2020-12-21T17:51:56.752109Z",
     "iopub.status.idle": "2020-12-21T17:51:58.083676Z",
     "shell.execute_reply": "2020-12-21T17:51:58.083130Z"
    },
    "papermill": {
     "duration": 1.433561,
     "end_time": "2020-12-21T17:51:58.083789",
     "exception": false,
     "start_time": "2020-12-21T17:51:56.650228",
     "status": "completed"
    },
    "tags": []
   },
   "outputs": [],
   "source": [
    "##### Adversarial Validation - sample\n",
    "\n",
    "adversarial_val   = train_test_V.sample(200000, replace=False)\n",
    "adversarial_train = train_test_V[~train_test_V.index.isin(adversarial_val.index)]\n",
    "\n",
    "del train_test_V\n",
    "\n",
    "# Remove columns that we know relates to transaction and keep the rest\n",
    "\n",
    "features = list(adversarial_train)\n",
    "features.remove('is_train')\n",
    "\n",
    "# Target definition\n",
    "\n",
    "target = 'is_train'"
   ]
  },
  {
   "cell_type": "code",
   "execution_count": 53,
   "metadata": {
    "execution": {
     "iopub.execute_input": "2020-12-21T17:51:58.292489Z",
     "iopub.status.busy": "2020-12-21T17:51:58.290829Z",
     "iopub.status.idle": "2020-12-21T18:00:09.878889Z",
     "shell.execute_reply": "2020-12-21T18:00:09.879542Z"
    },
    "papermill": {
     "duration": 491.698284,
     "end_time": "2020-12-21T18:00:09.879735",
     "exception": false,
     "start_time": "2020-12-21T17:51:58.181451",
     "status": "completed"
    },
    "tags": []
   },
   "outputs": [
    {
     "name": "stdout",
     "output_type": "stream",
     "text": [
      "Training until validation scores don't improve for 100 rounds\n",
      "[200]\tvalid_0's auc: 0.978348\n",
      "[400]\tvalid_0's auc: 0.978755\n",
      "Early stopping, best iteration is:\n",
      "[484]\tvalid_0's auc: 0.978873\n"
     ]
    }
   ],
   "source": [
    "##### Adversarial validation with LGBM\n",
    "\n",
    "train_data    = lightgbm.Dataset(adversarial_train[features], label=adversarial_train[target])\n",
    "test_data     = lightgbm.Dataset(adversarial_val[features],   label=adversarial_val[target])\n",
    "\n",
    "parameters = {\n",
    "                    'objective':'binary', # in classification, binary or multiclass\n",
    "                    'boosting_type':'gbdt', # boosting type, gradient boosting decission trees, dart, goss. Behind XGBoost\n",
    "                    'metric':'auc',\n",
    "                    'n_jobs':-1,\n",
    "                    'learning_rate':0.05,\n",
    "                    'num_leaves': 2**8,\n",
    "                    'max_depth':-1,\n",
    "                    'tree_learner':'serial',\n",
    "                    'colsample_bytree': 0.7,\n",
    "                    'subsample_freq':1,\n",
    "                    'subsample':0.5,      #each tree will use this percentage of rows (randomly). Smaller, improves generalization and speed. Not too low, as we look for overfiting.\n",
    "                    'n_estimators':1000,  #number of trees. This mean that there will be N trees, that they will be executed one after another, unless early_stopping_rounds condition is met.\n",
    "                    'max_bin':255,\n",
    "                    'verbose':-1,\n",
    "                    'early_stopping_rounds':100, \n",
    "                } \n",
    "\n",
    "model = lightgbm.train(parameters,\n",
    "                       train_data,\n",
    "                       valid_sets=test_data, verbose_eval=200)"
   ]
  },
  {
   "cell_type": "code",
   "execution_count": 54,
   "metadata": {
    "execution": {
     "iopub.execute_input": "2020-12-21T18:00:10.118390Z",
     "iopub.status.busy": "2020-12-21T18:00:10.117476Z",
     "iopub.status.idle": "2020-12-21T18:00:10.121710Z",
     "shell.execute_reply": "2020-12-21T18:00:10.120882Z"
    },
    "papermill": {
     "duration": 0.116604,
     "end_time": "2020-12-21T18:00:10.121865",
     "exception": false,
     "start_time": "2020-12-21T18:00:10.005261",
     "status": "completed"
    },
    "tags": []
   },
   "outputs": [
    {
     "name": "stdout",
     "output_type": "stream",
     "text": [
      "AUC: 0.9788734146617585\n"
     ]
    }
   ],
   "source": [
    "##### AUC\n",
    "\n",
    "print('AUC:',model.best_score.get('valid_0').get('auc'))"
   ]
  },
  {
   "cell_type": "code",
   "execution_count": 55,
   "metadata": {
    "execution": {
     "iopub.execute_input": "2020-12-21T18:00:10.327567Z",
     "iopub.status.busy": "2020-12-21T18:00:10.326929Z",
     "iopub.status.idle": "2020-12-21T18:00:10.680824Z",
     "shell.execute_reply": "2020-12-21T18:00:10.681449Z"
    },
    "papermill": {
     "duration": 0.456483,
     "end_time": "2020-12-21T18:00:10.681583",
     "exception": false,
     "start_time": "2020-12-21T18:00:10.225100",
     "status": "completed"
    },
    "tags": []
   },
   "outputs": [
    {
     "data": {
      "image/png": "[encoded data removed]",
      "text/plain": [
       "<Figure size 1152x720 with 1 Axes>"
      ]
     },
     "metadata": {
      "needs_background": "light"
     },
     "output_type": "display_data"
    }
   ],
   "source": [
    "##### Feature Importance\n",
    "\n",
    "features_importance = model.feature_importance()\n",
    "features_array = np.array(features)\n",
    "features_array_ordered_v = features_array[(features_importance).argsort()[::-1]]\n",
    "\n",
    "plt.figure(figsize=(16,10))\n",
    "sns.barplot(y=features, x=features_importance, orient='h', order=features_array_ordered_v[:30])\n",
    "plt.show()"
   ]
  },
  {
   "cell_type": "markdown",
   "metadata": {
    "papermill": {
     "duration": 0.099376,
     "end_time": "2020-12-21T18:00:10.881225",
     "exception": false,
     "start_time": "2020-12-21T18:00:10.781849",
     "status": "completed"
    },
    "tags": []
   },
   "source": [
    "## Finally, we train the model for the adversarial validation with the best 50% of the first batch and the the best 50% of the second"
   ]
  },
  {
   "cell_type": "code",
   "execution_count": 56,
   "metadata": {
    "execution": {
     "iopub.execute_input": "2020-12-21T18:00:11.126025Z",
     "iopub.status.busy": "2020-12-21T18:00:11.125417Z",
     "iopub.status.idle": "2020-12-21T18:00:11.131140Z",
     "shell.execute_reply": "2020-12-21T18:00:11.131696Z"
    },
    "papermill": {
     "duration": 0.151535,
     "end_time": "2020-12-21T18:00:11.131852",
     "exception": false,
     "start_time": "2020-12-21T18:00:10.980317",
     "status": "completed"
    },
    "tags": []
   },
   "outputs": [],
   "source": [
    "mixed_features_array = np.hstack([\n",
    "    features_array_ordered_i[:int(np.floor(len(features_array_ordered_i)/2))],\n",
    "    features_array_ordered_v[:int(np.floor(len(features_array_ordered_v)/2))]])"
   ]
  },
  {
   "cell_type": "code",
   "execution_count": 57,
   "metadata": {
    "execution": {
     "iopub.execute_input": "2020-12-21T18:00:11.348814Z",
     "iopub.status.busy": "2020-12-21T18:00:11.347897Z",
     "iopub.status.idle": "2020-12-21T18:00:13.285248Z",
     "shell.execute_reply": "2020-12-21T18:00:13.284519Z"
    },
    "papermill": {
     "duration": 2.052379,
     "end_time": "2020-12-21T18:00:13.285386",
     "exception": false,
     "start_time": "2020-12-21T18:00:11.233007",
     "status": "completed"
    },
    "tags": []
   },
   "outputs": [
    {
     "data": {
      "text/plain": [
       "7936"
      ]
     },
     "execution_count": 57,
     "metadata": {},
     "output_type": "execute_result"
    }
   ],
   "source": [
    "train_M = train[mixed_features_array].copy()\n",
    "train_M['is_train'] = 1\n",
    "\n",
    "test_M = test[mixed_features_array].copy()\n",
    "test_M['is_train'] = 0\n",
    "\n",
    "train_test_M = pd.concat([train_M, test_M], axis=0, ignore_index=True)\n",
    "\n",
    "del train_M\n",
    "del test_M\n",
    "del train\n",
    "del test\n",
    "gc.collect()"
   ]
  },
  {
   "cell_type": "code",
   "execution_count": 58,
   "metadata": {
    "execution": {
     "iopub.execute_input": "2020-12-21T18:00:13.601315Z",
     "iopub.status.busy": "2020-12-21T18:00:13.600449Z",
     "iopub.status.idle": "2020-12-21T18:00:15.206437Z",
     "shell.execute_reply": "2020-12-21T18:00:15.205614Z"
    },
    "papermill": {
     "duration": 1.767694,
     "end_time": "2020-12-21T18:00:15.206579",
     "exception": false,
     "start_time": "2020-12-21T18:00:13.438885",
     "status": "completed"
    },
    "tags": []
   },
   "outputs": [],
   "source": [
    "categ_cols = list(train_test_M.dtypes[train_test_M.dtypes == 'O'].index)\n",
    "\n",
    "train_test_M.loc[:,categ_cols] = train_test_M[categ_cols].fillna('not_know')\n",
    "\n",
    "le = LabelEncoder()\n",
    "for col in categ_cols:\n",
    "    le.fit(train_test_M[col])\n",
    "    train_test_M[col] = le.transform(train_test_M[col])"
   ]
  },
  {
   "cell_type": "code",
   "execution_count": 59,
   "metadata": {
    "execution": {
     "iopub.execute_input": "2020-12-21T18:00:15.520390Z",
     "iopub.status.busy": "2020-12-21T18:00:15.519563Z",
     "iopub.status.idle": "2020-12-21T18:00:16.310676Z",
     "shell.execute_reply": "2020-12-21T18:00:16.310127Z"
    },
    "papermill": {
     "duration": 0.947173,
     "end_time": "2020-12-21T18:00:16.310792",
     "exception": false,
     "start_time": "2020-12-21T18:00:15.363619",
     "status": "completed"
    },
    "tags": []
   },
   "outputs": [],
   "source": [
    "##### Adversarial Validation - sample\n",
    "\n",
    "adversarial_val   = train_test_M.sample(200000, replace=False)\n",
    "adversarial_train = train_test_M[~train_test_M.index.isin(adversarial_val.index)]\n",
    "\n",
    "del train_test_M\n",
    "\n",
    "# Remove columns that we know relates to transaction and keep the rest\n",
    "features = list(adversarial_train)\n",
    "features.remove('is_train')\n",
    "\n",
    "for col in columns_D: # Remove the original Dxs for those we have the engineered Dxahcrs\n",
    "    try:\n",
    "        features.remove(col)\n",
    "    except:\n",
    "        pass\n",
    "    \n",
    "# Target definition\n",
    "target = 'is_train'"
   ]
  },
  {
   "cell_type": "code",
   "execution_count": 60,
   "metadata": {
    "execution": {
     "iopub.execute_input": "2020-12-21T18:00:16.528278Z",
     "iopub.status.busy": "2020-12-21T18:00:16.527586Z",
     "iopub.status.idle": "2020-12-21T18:10:03.699919Z",
     "shell.execute_reply": "2020-12-21T18:10:03.700865Z"
    },
    "papermill": {
     "duration": 587.28986,
     "end_time": "2020-12-21T18:10:03.701191",
     "exception": false,
     "start_time": "2020-12-21T18:00:16.411331",
     "status": "completed"
    },
    "tags": []
   },
   "outputs": [
    {
     "name": "stdout",
     "output_type": "stream",
     "text": [
      "Training until validation scores don't improve for 100 rounds\n",
      "[200]\tvalid_0's auc: 0.997952\n",
      "[400]\tvalid_0's auc: 0.998492\n",
      "[600]\tvalid_0's auc: 0.998703\n",
      "[800]\tvalid_0's auc: 0.998797\n",
      "[1000]\tvalid_0's auc: 0.998856\n",
      "Did not meet early stopping. Best iteration is:\n",
      "[1000]\tvalid_0's auc: 0.998856\n"
     ]
    }
   ],
   "source": [
    "##### Adversarial validation with LGBM\n",
    "\n",
    "train_data    = lightgbm.Dataset(adversarial_train[features], label=adversarial_train[target], categorical_feature=categ_cols)\n",
    "test_data     = lightgbm.Dataset(adversarial_val[features],   label=adversarial_val[target],   categorical_feature=categ_cols)\n",
    "\n",
    "parameters = {\n",
    "                    'objective':'binary', # in classification, binary or multiclass\n",
    "                    'boosting_type':'gbdt', # boosting type, gradient boosting decission trees, dart, goss. Behind XGBoost\n",
    "                    'metric':'auc',\n",
    "                    'n_jobs':-1,\n",
    "                    'learning_rate':0.05,\n",
    "                    'num_leaves': 2**8,\n",
    "                    'max_depth':-1,\n",
    "                    'tree_learner':'serial',\n",
    "                    'colsample_bytree': 0.7,\n",
    "                    'subsample_freq':1,\n",
    "                    'subsample':0.5,      #each tree will use this percentage of rows (randomly). Smaller, improves generalization and speed. Not too low, as we look for overfiting.\n",
    "                    'n_estimators':1000,  #number of trees. This mean that there will be N trees, that they will be executed one after another, unless early_stopping_rounds condition is met.\n",
    "                    'max_bin':255,\n",
    "                    'verbose':-1,\n",
    "                    'early_stopping_rounds':100, \n",
    "                } \n",
    "\n",
    "model = lightgbm.train(parameters,\n",
    "                       train_data,\n",
    "                       valid_sets=test_data, verbose_eval=200)"
   ]
  },
  {
   "cell_type": "code",
   "execution_count": 61,
   "metadata": {
    "execution": {
     "iopub.execute_input": "2020-12-21T18:10:04.045190Z",
     "iopub.status.busy": "2020-12-21T18:10:04.044298Z",
     "iopub.status.idle": "2020-12-21T18:10:04.048335Z",
     "shell.execute_reply": "2020-12-21T18:10:04.048834Z"
    },
    "papermill": {
     "duration": 0.16721,
     "end_time": "2020-12-21T18:10:04.048973",
     "exception": false,
     "start_time": "2020-12-21T18:10:03.881763",
     "status": "completed"
    },
    "tags": []
   },
   "outputs": [
    {
     "name": "stdout",
     "output_type": "stream",
     "text": [
      "AUC: 0.9988561076990548\n"
     ]
    }
   ],
   "source": [
    "##### AUC\n",
    "\n",
    "print('AUC:',model.best_score.get('valid_0').get('auc'))"
   ]
  },
  {
   "cell_type": "code",
   "execution_count": 62,
   "metadata": {
    "execution": {
     "iopub.execute_input": "2020-12-21T18:10:04.280749Z",
     "iopub.status.busy": "2020-12-21T18:10:04.279632Z",
     "iopub.status.idle": "2020-12-21T18:10:04.631068Z",
     "shell.execute_reply": "2020-12-21T18:10:04.630248Z"
    },
    "papermill": {
     "duration": 0.463441,
     "end_time": "2020-12-21T18:10:04.631200",
     "exception": false,
     "start_time": "2020-12-21T18:10:04.167759",
     "status": "completed"
    },
    "tags": []
   },
   "outputs": [
    {
     "data": {
      "image/png": "[encoded data removed]",
      "text/plain": [
       "<Figure size 1152x720 with 1 Axes>"
      ]
     },
     "metadata": {
      "needs_background": "light"
     },
     "output_type": "display_data"
    }
   ],
   "source": [
    "##### Feature Importance\n",
    "\n",
    "features_importance = model.feature_importance()\n",
    "features_array = np.array(features)\n",
    "features_array_ordered_v = features_array[(features_importance).argsort()[::-1]]\n",
    "\n",
    "plt.figure(figsize=(16,10))\n",
    "sns.barplot(y=features, x=features_importance, orient='h', order=features_array_ordered_v[:30])\n",
    "plt.show()"
   ]
  },
  {
   "cell_type": "markdown",
   "metadata": {
    "papermill": {
     "duration": 0.156851,
     "end_time": "2020-12-21T18:10:04.943065",
     "exception": false,
     "start_time": "2020-12-21T18:10:04.786214",
     "status": "completed"
    },
    "tags": []
   },
   "source": [
    "# Conclusions\n",
    "\n",
    "Attending the adversarial validation, these characteristics can be strongly related to the customer identification:\n",
    "\n",
    "* `card1` y/o `card2`\n",
    "* `D1achr` y/o `D11achr`, `D10achr`, `D15achr`, `D4achr`\n",
    "* `C13`\n",
    "* `addr1`\n",
    "* `dist1`\n",
    "\n",
    "We tested the model outcomes, engineering the features based on this uid, f.e. creating aggregations, against our original (card columns +addr columns + ProductCD + D1achr) and the results were better with the latter than the former. However, these features are also important for the fraud detection model. We are using a mix between these two and the first uid approach in order to obtain new features that help the model to differenciate between fraudulent and legit transactions."
   ]
  }
 ],
 "metadata": {
  "kernelspec": {
   "display_name": "Python 3",
   "language": "python",
   "name": "python3"
  },
  "language_info": {
   "codemirror_mode": {
    "name": "ipython",
    "version": 3
   },
   "file_extension": ".py",
   "mimetype": "text/x-python",
   "name": "python",
   "nbconvert_exporter": "python",
   "pygments_lexer": "ipython3",
   "version": "3.7.6"
  },
  "papermill": {
   "duration": 1507.790498,
   "end_time": "2020-12-21T18:10:06.164458",
   "environment_variables": {},
   "exception": null,
   "input_path": "__notebook__.ipynb",
   "output_path": "__notebook__.ipynb",
   "parameters": {},
   "start_time": "2020-12-21T17:44:58.373960",
   "version": "2.1.0"
  }
 },
 "nbformat": 4,
 "nbformat_minor": 4
}
