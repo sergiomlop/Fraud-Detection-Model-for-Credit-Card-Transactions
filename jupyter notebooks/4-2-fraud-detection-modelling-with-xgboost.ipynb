{
 "cells": [
  {
   "cell_type": "code",
   "execution_count": 1,
   "metadata": {
    "execution": {
     "iopub.execute_input": "2020-12-22T11:25:44.434606Z",
     "iopub.status.busy": "2020-12-22T11:25:44.433800Z",
     "iopub.status.idle": "2020-12-22T11:25:49.625404Z",
     "shell.execute_reply": "2020-12-22T11:25:49.626277Z"
    },
    "papermill": {
     "duration": 5.213501,
     "end_time": "2020-12-22T11:25:49.626563",
     "exception": false,
     "start_time": "2020-12-22T11:25:44.413062",
     "status": "completed"
    },
    "tags": []
   },
   "outputs": [],
   "source": [
    "import xgboost as xgb\n",
    "\n",
    "import matplotlib.pyplot as plt\n",
    "import seaborn as sns\n",
    "\n",
    "from sklearn.metrics import roc_auc_score\n",
    "from sklearn.metrics import roc_curve\n",
    "\n",
    "import numpy as np \n",
    "import pandas as pd \n",
    "\n",
    "import gc\n",
    "import datetime\n",
    "import joblib\n",
    "\n",
    "import warnings\n",
    "warnings.filterwarnings(\"ignore\")"
   ]
  },
  {
   "cell_type": "code",
   "execution_count": 2,
   "metadata": {
    "execution": {
     "iopub.execute_input": "2020-12-22T11:25:49.679159Z",
     "iopub.status.busy": "2020-12-22T11:25:49.678188Z",
     "iopub.status.idle": "2020-12-22T11:25:49.698411Z",
     "shell.execute_reply": "2020-12-22T11:25:49.699623Z"
    },
    "papermill": {
     "duration": 0.053777,
     "end_time": "2020-12-22T11:25:49.699835",
     "exception": false,
     "start_time": "2020-12-22T11:25:49.646058",
     "status": "completed"
    },
    "tags": []
   },
   "outputs": [],
   "source": [
    "##### Functions \n",
    "\n",
    "# 1st function: Adds number of ocurrences to the column element to see if it is a frequent value or not.\n",
    "def frecuency_encoder(cols, df_train, df_test):\n",
    "    for col in cols:\n",
    "        temp = df_train[col].value_counts().to_dict()\n",
    "        df_train[f'{col}_counts'] = df_train[col].map(temp).astype('float32')\n",
    "        \n",
    "        temp = df_test[col].value_counts().to_dict()\n",
    "        df_test[f'{col}_counts']  = df_test[col].map(temp).astype('float32')\n",
    "\n",
    "# 2nd function : creates a list of statistics (in aggregations) to be applied to a list of columns, given to group specified by group.\n",
    "def aggregations(cols, group, aggregations, df_train, df_test):\n",
    "    for col in cols:\n",
    "        for aggr in aggregations:\n",
    "            temp     = df_train.groupby([group])[col].agg([aggr])\n",
    "            dict_aux = temp[aggr].to_dict()\n",
    "            df_train[f'{col}_{aggr}'] = df_train[group].map(dict_aux).astype('float32')\n",
    "            \n",
    "            temp     = df_test.groupby([group])[col].agg([aggr])\n",
    "            dict_aux = temp[aggr].to_dict()\n",
    "            df_test[f'{col}_{aggr}'] = df_test[group].map(dict_aux).astype('float32')   "
   ]
  },
  {
   "cell_type": "code",
   "execution_count": 3,
   "metadata": {
    "execution": {
     "iopub.execute_input": "2020-12-22T11:25:49.747019Z",
     "iopub.status.busy": "2020-12-22T11:25:49.746021Z",
     "iopub.status.idle": "2020-12-22T11:26:01.892387Z",
     "shell.execute_reply": "2020-12-22T11:26:01.891750Z"
    },
    "papermill": {
     "duration": 12.172543,
     "end_time": "2020-12-22T11:26:01.892513",
     "exception": false,
     "start_time": "2020-12-22T11:25:49.719970",
     "status": "completed"
    },
    "tags": []
   },
   "outputs": [
    {
     "name": "stdout",
     "output_type": "stream",
     "text": [
      "Downloading datasets...\n",
      " \n",
      "Train has been downloaded... (1/2)\n",
      "Test has been downloaded... (2/2)\n",
      " \n",
      "All files are downloaded\n"
     ]
    }
   ],
   "source": [
    "##### Download of files.\n",
    "\n",
    "print('Downloading datasets...')\n",
    "print(' ')\n",
    "train = pd.read_pickle('/kaggle/input/ieee-cis-preprocessing/train.pkl')\n",
    "print('Train has been downloaded... (1/2)')\n",
    "test = pd.read_pickle('/kaggle/input/ieee-cis-preprocessing/test.pkl')\n",
    "print('Test has been downloaded... (2/2)')\n",
    "print(' ')\n",
    "print('All files are downloaded')"
   ]
  },
  {
   "cell_type": "code",
   "execution_count": 4,
   "metadata": {
    "execution": {
     "iopub.execute_input": "2020-12-22T11:26:01.935720Z",
     "iopub.status.busy": "2020-12-22T11:26:01.934072Z",
     "iopub.status.idle": "2020-12-22T11:26:06.312833Z",
     "shell.execute_reply": "2020-12-22T11:26:06.312290Z"
    },
    "papermill": {
     "duration": 4.405617,
     "end_time": "2020-12-22T11:26:06.312955",
     "exception": false,
     "start_time": "2020-12-22T11:26:01.907338",
     "status": "completed"
    },
    "tags": []
   },
   "outputs": [],
   "source": [
    "##### Additional Preprocessing\n",
    "# Filling NaNs. Does not change engineered Ds with negatives (-9999).\n",
    "# Rest of the columns model worked better with Nan -> -1 than -999.\n",
    "\n",
    "fill_nan_exceptions = ['D1achr', 'D2achr', 'D4achr', 'D6achr', 'D10achr', 'D11achr', 'D12achr', 'D13achr', 'D14achr', 'D15achr']\n",
    "\n",
    "fill_nan = list(train.columns)\n",
    "fill_nan.remove('isFraud')\n",
    "\n",
    "for col in fill_nan_exceptions:\n",
    "    fill_nan.remove(col)\n",
    "    \n",
    "train[fill_nan] = train[fill_nan].replace(np.nan, -1)\n",
    "test[fill_nan]  = test[fill_nan].replace(np.nan, -1)\n",
    "\n",
    "train[fill_nan_exceptions] = train[fill_nan_exceptions].replace(np.nan, -9999)\n",
    "test[fill_nan_exceptions]  = test[fill_nan_exceptions].replace(np.nan, -9999) "
   ]
  },
  {
   "cell_type": "code",
   "execution_count": 5,
   "metadata": {
    "execution": {
     "iopub.execute_input": "2020-12-22T11:26:06.348260Z",
     "iopub.status.busy": "2020-12-22T11:26:06.347270Z",
     "iopub.status.idle": "2020-12-22T11:26:06.727170Z",
     "shell.execute_reply": "2020-12-22T11:26:06.726555Z"
    },
    "papermill": {
     "duration": 0.398785,
     "end_time": "2020-12-22T11:26:06.727285",
     "exception": false,
     "start_time": "2020-12-22T11:26:06.328500",
     "status": "completed"
    },
    "tags": []
   },
   "outputs": [],
   "source": [
    "##### Feature Engineering\n",
    "frecuency_encoder(['card1', 'card2','D1achr','addr1'], train, test)"
   ]
  },
  {
   "cell_type": "code",
   "execution_count": 6,
   "metadata": {
    "execution": {
     "iopub.execute_input": "2020-12-22T11:26:06.772379Z",
     "iopub.status.busy": "2020-12-22T11:26:06.770570Z",
     "iopub.status.idle": "2020-12-22T11:26:06.775079Z",
     "shell.execute_reply": "2020-12-22T11:26:06.774403Z"
    },
    "papermill": {
     "duration": 0.034242,
     "end_time": "2020-12-22T11:26:06.775206",
     "exception": false,
     "start_time": "2020-12-22T11:26:06.740964",
     "status": "completed"
    },
    "tags": []
   },
   "outputs": [
    {
     "name": "stdout",
     "output_type": "stream",
     "text": [
      "Columns selected: ['TransactionAmt', 'ProductCD', 'card1', 'card2', 'card3', 'card4', 'card5', 'card6', 'addr1', 'addr2', 'dist1', 'P_emaildomain', 'R_emaildomain', 'C1', 'C2', 'C3', 'C4', 'C5', 'C6', 'C7', 'C8', 'C9', 'C10', 'C11', 'C12', 'C13', 'C14', 'D3', 'D8', 'M2', 'M3', 'M4', 'M5', 'M6', 'M7', 'M8', 'M9', 'V12', 'V13', 'V14', 'V15', 'V16', 'V17', 'V18', 'V19', 'V20', 'V21', 'V22', 'V23', 'V24', 'V25', 'V26', 'V29', 'V30', 'V31', 'V32', 'V33', 'V34', 'V35', 'V36', 'V38', 'V39', 'V40', 'V42', 'V43', 'V44', 'V45', 'V47', 'V49', 'V50', 'V51', 'V52', 'V53', 'V54', 'V55', 'V56', 'V57', 'V58', 'V59', 'V60', 'V61', 'V62', 'V63', 'V64', 'V66', 'V67', 'V69', 'V70', 'V71', 'V72', 'V73', 'V74', 'V75', 'V76', 'V77', 'V78', 'V79', 'V80', 'V81', 'V82', 'V83', 'V85', 'V86', 'V87', 'V88', 'V90', 'V91', 'V92', 'V93', 'V94', 'V99', 'V100', 'V102', 'V106', 'V108', 'V109', 'V110', 'V111', 'V112', 'V113', 'V115', 'V121', 'V123', 'V124', 'V129', 'V131', 'V133', 'V136', 'V137', 'V138', 'V139', 'V140', 'V141', 'V142', 'V143', 'V144', 'V145', 'V146', 'V147', 'V148', 'V149', 'V151', 'V152', 'V153', 'V154', 'V155', 'V156', 'V158', 'V159', 'V160', 'V161', 'V162', 'V163', 'V165', 'V166', 'V169', 'V170', 'V171', 'V172', 'V173', 'V174', 'V175', 'V178', 'V179', 'V184', 'V187', 'V188', 'V189', 'V193', 'V194', 'V195', 'V197', 'V198', 'V200', 'V201', 'V205', 'V206', 'V207', 'V208', 'V209', 'V210', 'V216', 'V217', 'V220', 'V223', 'V224', 'V225', 'V227', 'V231', 'V232', 'V233', 'V234', 'V235', 'V239', 'V242', 'V243', 'V244', 'V245', 'V246', 'V248', 'V249', 'V251', 'V252', 'V253', 'V254', 'V256', 'V257', 'V258', 'V259', 'V262', 'V266', 'V267', 'V268', 'V272', 'V274', 'V279', 'V280', 'V281', 'V282', 'V283', 'V284', 'V285', 'V286', 'V287', 'V288', 'V289', 'V293', 'V294', 'V295', 'V296', 'V298', 'V299', 'V300', 'V301', 'V308', 'V309', 'V310', 'V311', 'V312', 'V313', 'V314', 'V315', 'V317', 'V318', 'V320', 'V321', 'V322', 'V323', 'V324', 'V325', 'V326', 'V327', 'V329', 'V330', 'V331', 'V332', 'V333', 'V334', 'V335', 'V336', 'V337', 'V338', 'D1achr', 'D2achr', 'D4achr', 'D6achr', 'D10achr', 'D11achr', 'D12achr', 'D13achr', 'D14achr', 'D15achr', 'card1_counts', 'card2_counts', 'D1achr_counts', 'addr1_counts']\n",
      "Length: 276\n"
     ]
    }
   ],
   "source": [
    "##### Feature selection for the model\n",
    "\n",
    "feature_list = list(train.columns)\n",
    "\n",
    "# Remove overfitting. Target - original engineered Ds from model features\n",
    "\n",
    "remove_features = ['TransactionID', 'isFraud', 'TransactionDT', 'uid1', 'uid2', 'uids', \n",
    "                   'DT', 'D1', 'D2', 'D4', 'D6', 'D10', 'D11', 'D12', 'D13', 'D14', 'D15']\n",
    "\n",
    "# Remove less important features (from feature importance results)\n",
    "\n",
    "worst_features = ['V150', 'V48', 'V164', 'D5', 'V125', 'V277', 'V182', 'D7', 'V271', 'V261', 'V196', 'V168', \n",
    "                  'V275', 'V5', 'V114', 'V132', 'V339', 'V250', 'V219', 'V103', 'V37', 'V307', 'V213', 'V186',\n",
    "                  'V105', 'V297', 'V291', 'V9', 'V278', 'V221', 'V214', 'dist2', 'V303', 'V180', 'V270', 'V98',\n",
    "                  'V304', 'V238', 'V290', 'V215', 'V306', 'V192', 'V236', 'V255', 'V130', 'V3', 'V46', 'V7',\n",
    "                  'V260', 'V212', 'V185', 'V319', 'V237', 'V120', 'V203', 'V101', 'V191', 'V247', 'V269', 'V273',\n",
    "                  'V157', 'V8', 'V167', 'V228', 'V127', 'V316', 'V4', 'M1', 'V84', 'V222', 'V128', 'V226', 'V116',\n",
    "                  'V177', 'V134', 'V276', 'V263', 'D9', 'V264', 'V176', 'V6', 'V265', 'V126', 'V199', 'V183', 'V202',\n",
    "                  'V211', 'V240', 'V218', 'V11', 'V302', 'V135', 'V204', 'V229', 'V292', 'V328', 'V230', 'V2', 'V122',\n",
    "                  'V10', 'V95', 'V96', 'V190', 'V104', 'V118', 'V97', 'V181', 'V1', 'V41', 'V117', 'V119', 'V28',\n",
    "                  'V65', 'V107', 'V305', 'V68', 'V27', 'V241', 'V89']\n",
    "\n",
    "# Get the feature list\n",
    "\n",
    "remove_features.extend(worst_features)\n",
    "\n",
    "for feat in remove_features:\n",
    "    try:\n",
    "        feature_list.remove(feat)\n",
    "    except:\n",
    "        pass\n",
    "\n",
    "print('Columns selected:', feature_list)\n",
    "print('Length:', len(feature_list))\n",
    "\n",
    "# Get target\n",
    "target = 'isFraud'"
   ]
  },
  {
   "cell_type": "code",
   "execution_count": 7,
   "metadata": {
    "execution": {
     "iopub.execute_input": "2020-12-22T11:26:06.809951Z",
     "iopub.status.busy": "2020-12-22T11:26:06.808558Z",
     "iopub.status.idle": "2020-12-22T11:26:07.643633Z",
     "shell.execute_reply": "2020-12-22T11:26:07.643079Z"
    },
    "papermill": {
     "duration": 0.853585,
     "end_time": "2020-12-22T11:26:07.643755",
     "exception": false,
     "start_time": "2020-12-22T11:26:06.790170",
     "status": "completed"
    },
    "tags": []
   },
   "outputs": [],
   "source": [
    "##### Train + val separation\n",
    "# Train: days 1  to 150 (5 months)\n",
    "# Test: days  150 to the end (1 month)\n",
    "\n",
    "df_train = train.query('DT <= 150') \n",
    "df_val  = train.query('DT >  150')"
   ]
  },
  {
   "cell_type": "markdown",
   "metadata": {
    "papermill": {
     "duration": 0.014504,
     "end_time": "2020-12-22T11:26:07.673065",
     "exception": false,
     "start_time": "2020-12-22T11:26:07.658561",
     "status": "completed"
    },
    "tags": []
   },
   "source": [
    "# Modelling with XGBoost"
   ]
  },
  {
   "cell_type": "code",
   "execution_count": 8,
   "metadata": {
    "execution": {
     "iopub.execute_input": "2020-12-22T11:26:07.766935Z",
     "iopub.status.busy": "2020-12-22T11:26:07.765413Z",
     "iopub.status.idle": "2020-12-22T11:27:31.175807Z",
     "shell.execute_reply": "2020-12-22T11:27:31.176454Z"
    },
    "papermill": {
     "duration": 83.489422,
     "end_time": "2020-12-22T11:27:31.176618",
     "exception": false,
     "start_time": "2020-12-22T11:26:07.687196",
     "status": "completed"
    },
    "tags": []
   },
   "outputs": [
    {
     "name": "stdout",
     "output_type": "stream",
     "text": [
      "[0]\tvalidation_0-auc:0.82953\tvalidation_1-auc:0.81996\n",
      "Multiple eval metrics have been passed: 'validation_1-auc' will be used for early stopping.\n",
      "\n",
      "Will train until validation_1-auc hasn't improved in 100 rounds.\n",
      "[100]\tvalidation_0-auc:0.92743\tvalidation_1-auc:0.89124\n",
      "[200]\tvalidation_0-auc:0.96695\tvalidation_1-auc:0.91693\n",
      "[300]\tvalidation_0-auc:0.98502\tvalidation_1-auc:0.93178\n",
      "[400]\tvalidation_0-auc:0.99220\tvalidation_1-auc:0.93782\n",
      "[500]\tvalidation_0-auc:0.99481\tvalidation_1-auc:0.93865\n",
      "[600]\tvalidation_0-auc:0.99616\tvalidation_1-auc:0.93868\n",
      "Stopping. Best iteration:\n",
      "[507]\tvalidation_0-auc:0.99492\tvalidation_1-auc:0.93879\n",
      "\n"
     ]
    },
    {
     "data": {
      "text/plain": [
       "XGBClassifier(base_score=0.5, booster='gbtree', colsample_bylevel=1,\n",
       "              colsample_bynode=1, colsample_bytree=0.4, eval_metric='auc',\n",
       "              gamma=0, gpu_id=-1, importance_type='gain',\n",
       "              interaction_constraints='', learning_rate=0.02, max_delta_step=0,\n",
       "              max_depth=12, min_child_weight=1, missing=-1,\n",
       "              monotone_constraints=(), n_estimators=2000, n_jobs=0,\n",
       "              num_parallel_tree=1, random_state=0, reg_alpha=0, reg_lambda=1,\n",
       "              scale_pos_weight=1, subsample=0.8, tree_method='gpu_hist',\n",
       "              validate_parameters=1, verbosity=None)"
      ]
     },
     "execution_count": 8,
     "metadata": {},
     "output_type": "execute_result"
    }
   ],
   "source": [
    "##### XGBoosting\n",
    "\n",
    "clf = xgb.XGBClassifier(\n",
    "                objective = 'binary:logistic', \n",
    "                base_score = 0.5, \n",
    "                booster = 'gbtree', \n",
    "                colsample_bylevel = 1,\n",
    "                colsample_bynode = 1,\n",
    "                colsample_bytree = 0.4,     #percentage of columns by tree, overfitting parameter\n",
    "                gamma = 0,\n",
    "                gpu_id = -1,\n",
    "                importance_type = 'gain',\n",
    "                interaction_constraints = '',\n",
    "                learning_rate = 0.02,\n",
    "                max_delta_step = 0,\n",
    "                max_depth = 12,             #max tree depth, overfitting parameter\n",
    "                min_child_weight = 1,\n",
    "                missing = -1,               #missing value is the value to replace NaN. Default, np.nan\n",
    "                monotone_constraints =(),\n",
    "                n_estimators = 2000,        #number of trees. \n",
    "                n_jobs = 0,\n",
    "                num_parallel_tree = 1,\n",
    "                random_state = 0,\n",
    "                reg_alpha = 0, \n",
    "                reg_lambda = 1,\n",
    "                scale_pos_weight = 1,\n",
    "                subsample = 0.8,            #percentage of rows by tree, overfitting parameter\n",
    "                tree_method = 'gpu_hist',   #use gpu to speed the training/fit of the model.\n",
    "                validate_parameters = 1,\n",
    "                verbosity = None,           #verbosity (0-3) O is silent, and 3 debug. It looks this does not impact in verbose.\n",
    "                eval_metric = 'auc')\n",
    "\n",
    "clf.fit(df_train[feature_list], df_train[target], \n",
    "eval_set=[(df_train[feature_list],   df_train[target]), (df_val[feature_list],   df_val[target])],\n",
    "        verbose=100, early_stopping_rounds=100)"
   ]
  },
  {
   "cell_type": "code",
   "execution_count": 9,
   "metadata": {
    "execution": {
     "iopub.execute_input": "2020-12-22T11:27:31.220574Z",
     "iopub.status.busy": "2020-12-22T11:27:31.219952Z",
     "iopub.status.idle": "2020-12-22T11:27:31.226441Z",
     "shell.execute_reply": "2020-12-22T11:27:31.225797Z"
    },
    "papermill": {
     "duration": 0.030942,
     "end_time": "2020-12-22T11:27:31.226580",
     "exception": false,
     "start_time": "2020-12-22T11:27:31.195638",
     "status": "completed"
    },
    "tags": []
   },
   "outputs": [
    {
     "name": "stdout",
     "output_type": "stream",
     "text": [
      "AUC: 0.938792\n"
     ]
    }
   ],
   "source": [
    "##### AUC\n",
    "\n",
    "auc = clf.best_score\n",
    "print('AUC:',auc) "
   ]
  },
  {
   "cell_type": "code",
   "execution_count": 10,
   "metadata": {
    "execution": {
     "iopub.execute_input": "2020-12-22T11:27:31.281003Z",
     "iopub.status.busy": "2020-12-22T11:27:31.279875Z",
     "iopub.status.idle": "2020-12-22T11:27:39.690654Z",
     "shell.execute_reply": "2020-12-22T11:27:39.692518Z"
    },
    "papermill": {
     "duration": 8.447576,
     "end_time": "2020-12-22T11:27:39.692842",
     "exception": false,
     "start_time": "2020-12-22T11:27:31.245266",
     "status": "completed"
    },
    "tags": []
   },
   "outputs": [
    {
     "data": {
      "image/png": "[encoded data removed]",
      "text/plain": [
       "<Figure size 576x576 with 1 Axes>"
      ]
     },
     "metadata": {
      "needs_background": "light"
     },
     "output_type": "display_data"
    }
   ],
   "source": [
    "##### ROC Curve\n",
    "y_pred_valid = clf.predict_proba(df_val[feature_list])\n",
    "r_curve = roc_curve(df_val[target].values, y_pred_valid[:,1])\n",
    "\n",
    "\n",
    "plt.figure(figsize=(8,8))\n",
    "plt.title('ROC')\n",
    "plt.plot(r_curve[0], r_curve[1], 'b', label = 'AUC = %0.4f' % auc)\n",
    "plt.legend(loc = 'lower right')\n",
    "plt.plot([0, 1], [0, 1],'r--')\n",
    "plt.xlim([0, 1])\n",
    "plt.ylim([0, 1])\n",
    "plt.ylabel('True Positive Rate')\n",
    "plt.xlabel('False Positive Rate')\n",
    "plt.show()"
   ]
  },
  {
   "cell_type": "code",
   "execution_count": 11,
   "metadata": {
    "execution": {
     "iopub.execute_input": "2020-12-22T11:27:39.797134Z",
     "iopub.status.busy": "2020-12-22T11:27:39.785276Z",
     "iopub.status.idle": "2020-12-22T11:27:47.122562Z",
     "shell.execute_reply": "2020-12-22T11:27:47.121429Z"
    },
    "papermill": {
     "duration": 7.389563,
     "end_time": "2020-12-22T11:27:47.122679",
     "exception": false,
     "start_time": "2020-12-22T11:27:39.733116",
     "status": "completed"
    },
    "tags": []
   },
   "outputs": [
    {
     "data": {
      "image/png": "[encoded data removed]",
      "text/plain": [
       "<Figure size 1152x720 with 1 Axes>"
      ]
     },
     "metadata": {
      "needs_background": "light"
     },
     "output_type": "display_data"
    }
   ],
   "source": [
    "##### Feature Importance\n",
    "\n",
    "features_importance = clf.feature_importances_\n",
    "   \n",
    "features_array = np.array(feature_list)\n",
    "features_array_ordered = features_array[(features_importance).argsort()[::-1]]\n",
    "features_array_ordered\n",
    "\n",
    "plt.figure(figsize=(16,10))\n",
    "sns.barplot(y=features_array, x=features_importance, orient='h', order=features_array_ordered[:50])\n",
    "plt.show()"
   ]
  },
  {
   "cell_type": "code",
   "execution_count": 12,
   "metadata": {
    "execution": {
     "iopub.execute_input": "2020-12-22T11:27:47.196631Z",
     "iopub.status.busy": "2020-12-22T11:27:47.195527Z",
     "iopub.status.idle": "2020-12-22T11:27:47.311393Z",
     "shell.execute_reply": "2020-12-22T11:27:47.310775Z"
    },
    "papermill": {
     "duration": 0.164774,
     "end_time": "2020-12-22T11:27:47.311526",
     "exception": false,
     "start_time": "2020-12-22T11:27:47.146752",
     "status": "completed"
    },
    "tags": []
   },
   "outputs": [],
   "source": [
    "##### Saving this results into an Excel file\n",
    "\n",
    "params = clf.get_params()\n",
    "\n",
    "try:\n",
    "    model_results = pd.read_excel('model_results.xlsx')\n",
    "    \n",
    "    model_results = model_results.append({'datetime' : datetime.datetime.now(), 'clf':clf.__class__, 'features': feature_list, 'parameters' : params,\n",
    "                                       'AUC': auc, 'features_importance': list(features_importance), 'features_ordered': list(features_array_ordered), \n",
    "                                       'r_curve': list(r_curve)}, ignore_index=True)\n",
    "        \n",
    "except:\n",
    "    model_results = pd.DataFrame(columns = ['summary', 'datetime', 'clf', 'features', 'parameters', 'entry1', 'entry2', \n",
    "                                            'AUC', 'features_importance', 'features_ordered', 'r_curve', 'output2'])\n",
    "    \n",
    "    model_results = model_results.append({'datetime' : datetime.datetime.now(), 'clf':clf.__class__, 'features': feature_list, 'parameters' : params, \n",
    "                                       'AUC': auc, 'features_importance': list(features_importance), 'features_ordered': list(features_array_ordered),\n",
    "                                       'r_curve': list(r_curve)}, ignore_index=True)\n",
    "finally:\n",
    "    model_results.to_excel('model_results.xlsx')"
   ]
  },
  {
   "cell_type": "code",
   "execution_count": 13,
   "metadata": {
    "execution": {
     "iopub.execute_input": "2020-12-22T11:27:47.391158Z",
     "iopub.status.busy": "2020-12-22T11:27:47.390326Z",
     "iopub.status.idle": "2020-12-22T11:27:47.495464Z",
     "shell.execute_reply": "2020-12-22T11:27:47.496226Z"
    },
    "papermill": {
     "duration": 0.145714,
     "end_time": "2020-12-22T11:27:47.496481",
     "exception": false,
     "start_time": "2020-12-22T11:27:47.350767",
     "status": "completed"
    },
    "tags": []
   },
   "outputs": [
    {
     "data": {
      "text/plain": [
       "['model_xgboost.pkl']"
      ]
     },
     "execution_count": 13,
     "metadata": {},
     "output_type": "execute_result"
    }
   ],
   "source": [
    "##### Saving this model\n",
    "\n",
    "joblib.dump(clf, 'model_xgboost.pkl')"
   ]
  },
  {
   "cell_type": "markdown",
   "metadata": {
    "papermill": {
     "duration": 0.037305,
     "end_time": "2020-12-22T11:27:47.564839",
     "exception": false,
     "start_time": "2020-12-22T11:27:47.527534",
     "status": "completed"
    },
    "tags": []
   },
   "source": [
    "# Submission to Kaggle"
   ]
  },
  {
   "cell_type": "code",
   "execution_count": 14,
   "metadata": {
    "execution": {
     "iopub.execute_input": "2020-12-22T11:27:47.642484Z",
     "iopub.status.busy": "2020-12-22T11:27:47.641561Z",
     "iopub.status.idle": "2020-12-22T11:28:31.748870Z",
     "shell.execute_reply": "2020-12-22T11:28:31.747785Z"
    },
    "papermill": {
     "duration": 44.149395,
     "end_time": "2020-12-22T11:28:31.749041",
     "exception": false,
     "start_time": "2020-12-22T11:27:47.599646",
     "status": "completed"
    },
    "tags": []
   },
   "outputs": [
    {
     "name": "stdout",
     "output_type": "stream",
     "text": [
      "[0.00282973 0.00385214 0.00505377 ... 0.00544613 0.01398421 0.03301749]\n"
     ]
    }
   ],
   "source": [
    "y_pred_submission = clf.predict_proba(test[feature_list])[:,1]\n",
    "print (y_pred_submission)\n",
    "\n",
    "df_submission = pd.DataFrame({'TransactionID': test.TransactionID, 'isFraud': y_pred_submission})\n",
    "df_submission\n",
    "df_submission.to_csv('submission.csv', index=False)"
   ]
  },
  {
   "cell_type": "code",
   "execution_count": 15,
   "metadata": {
    "execution": {
     "iopub.execute_input": "2020-12-22T11:28:31.974196Z",
     "iopub.status.busy": "2020-12-22T11:28:31.973011Z",
     "iopub.status.idle": "2020-12-22T11:28:32.053142Z",
     "shell.execute_reply": "2020-12-22T11:28:32.053883Z"
    },
    "papermill": {
     "duration": 0.282201,
     "end_time": "2020-12-22T11:28:32.054057",
     "exception": false,
     "start_time": "2020-12-22T11:28:31.771856",
     "status": "completed"
    },
    "tags": []
   },
   "outputs": [
    {
     "name": "stdout",
     "output_type": "stream",
     "text": [
      "Done!\n"
     ]
    }
   ],
   "source": [
    "df_val.to_pickle('val_xgb.pkl')\n",
    "print('Done!')"
   ]
  }
 ],
 "metadata": {
  "kernelspec": {
   "display_name": "Python 3",
   "language": "python",
   "name": "python3"
  },
  "language_info": {
   "codemirror_mode": {
    "name": "ipython",
    "version": 3
   },
   "file_extension": ".py",
   "mimetype": "text/x-python",
   "name": "python",
   "nbconvert_exporter": "python",
   "pygments_lexer": "ipython3",
   "version": "3.7.6"
  },
  "papermill": {
   "duration": 172.379397,
   "end_time": "2020-12-22T11:28:32.590392",
   "environment_variables": {},
   "exception": null,
   "input_path": "__notebook__.ipynb",
   "output_path": "__notebook__.ipynb",
   "parameters": {},
   "start_time": "2020-12-22T11:25:40.210995",
   "version": "2.1.0"
  }
 },
 "nbformat": 4,
 "nbformat_minor": 4
}
