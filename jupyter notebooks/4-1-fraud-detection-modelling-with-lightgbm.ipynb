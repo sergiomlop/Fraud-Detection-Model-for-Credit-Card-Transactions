{
 "cells": [
  {
   "cell_type": "code",
   "execution_count": 1,
   "metadata": {
    "_cell_guid": "a70b4d8f-b84c-44d8-abd8-9a9ca59ceeb8",
    "_uuid": "16833a91-1cc7-4823-b991-dfedeaa4ae5a",
    "execution": {
     "iopub.execute_input": "2020-12-21T23:35:02.703334Z",
     "iopub.status.busy": "2020-12-21T23:35:02.702430Z",
     "iopub.status.idle": "2020-12-21T23:35:04.069850Z",
     "shell.execute_reply": "2020-12-21T23:35:04.070499Z"
    },
    "papermill": {
     "duration": 1.396679,
     "end_time": "2020-12-21T23:35:04.070723",
     "exception": false,
     "start_time": "2020-12-21T23:35:02.674044",
     "status": "completed"
    },
    "tags": []
   },
   "outputs": [
    {
     "data": {
      "text/html": [
       "<style type='text/css'>\n",
       ".datatable table.frame { margin-bottom: 0; }\n",
       ".datatable table.frame thead { border-bottom: none; }\n",
       ".datatable table.frame tr.coltypes td {  color: #FFFFFF;  line-height: 6px;  padding: 0 0.5em;}\n",
       ".datatable .bool    { background: #DDDD99; }\n",
       ".datatable .object  { background: #565656; }\n",
       ".datatable .int     { background: #5D9E5D; }\n",
       ".datatable .float   { background: #4040CC; }\n",
       ".datatable .str     { background: #CC4040; }\n",
       ".datatable .row_index {  background: var(--jp-border-color3);  border-right: 1px solid var(--jp-border-color0);  color: var(--jp-ui-font-color3);  font-size: 9px;}\n",
       ".datatable .frame tr.coltypes .row_index {  background: var(--jp-border-color0);}\n",
       ".datatable th:nth-child(2) { padding-left: 12px; }\n",
       ".datatable .hellipsis {  color: var(--jp-cell-editor-border-color);}\n",
       ".datatable .vellipsis {  background: var(--jp-layout-color0);  color: var(--jp-cell-editor-border-color);}\n",
       ".datatable .na {  color: var(--jp-cell-editor-border-color);  font-size: 80%;}\n",
       ".datatable .footer { font-size: 9px; }\n",
       ".datatable .frame_dimensions {  background: var(--jp-border-color3);  border-top: 1px solid var(--jp-border-color0);  color: var(--jp-ui-font-color3);  display: inline-block;  opacity: 0.6;  padding: 1px 10px 1px 5px;}\n",
       ".datatable .frame thead tr.colnames {  background-image: url('data:image/png;base64,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');  background-repeat: repeat-x;  background-size: 14px;  height: 28px;}\n",
       "</style>\n"
      ],
      "text/plain": [
       "<IPython.core.display.HTML object>"
      ]
     },
     "metadata": {},
     "output_type": "display_data"
    }
   ],
   "source": [
    "import pandas as pd\n",
    "import numpy as np\n",
    "\n",
    "import matplotlib.pyplot as plt\n",
    "import seaborn as sns\n",
    "\n",
    "import datetime\n",
    "import joblib\n",
    "\n",
    "from bayes_opt import BayesianOptimization\n",
    "import lightgbm as lgb\n",
    "\n",
    "from sklearn.metrics import roc_auc_score\n",
    "from sklearn.metrics import roc_curve\n",
    "\n",
    "import warnings\n",
    "warnings.filterwarnings(\"ignore\")"
   ]
  },
  {
   "cell_type": "code",
   "execution_count": 2,
   "metadata": {
    "_cell_guid": "e8d419f8-ed4c-4326-8235-a366768ab8c5",
    "_uuid": "6372cccb-da2f-4c8b-8b6e-30f0834424f8",
    "execution": {
     "iopub.execute_input": "2020-12-21T23:35:04.117804Z",
     "iopub.status.busy": "2020-12-21T23:35:04.117065Z",
     "iopub.status.idle": "2020-12-21T23:35:16.369480Z",
     "shell.execute_reply": "2020-12-21T23:35:16.368634Z"
    },
    "papermill": {
     "duration": 12.278057,
     "end_time": "2020-12-21T23:35:16.369670",
     "exception": false,
     "start_time": "2020-12-21T23:35:04.091613",
     "status": "completed"
    },
    "tags": []
   },
   "outputs": [
    {
     "name": "stdout",
     "output_type": "stream",
     "text": [
      "Downloading datasets...\n",
      " \n",
      "Train has been downloaded... (1/2)\n",
      "Test has been downloaded... (2/2)\n",
      " \n",
      "All files are downloaded\n"
     ]
    }
   ],
   "source": [
    "##### Download of files.\n",
    "\n",
    "print('Downloading datasets...')\n",
    "print(' ')\n",
    "df_train = pd.read_pickle('/kaggle/input/3-fraud-detection-preprocessing/train.pkl')\n",
    "print('Train has been downloaded... (1/2)')\n",
    "df_test = pd.read_pickle('/kaggle/input/3-fraud-detection-preprocessing/test.pkl')\n",
    "print('Test has been downloaded... (2/2)')\n",
    "print(' ')\n",
    "print('All files are downloaded')"
   ]
  },
  {
   "cell_type": "code",
   "execution_count": 3,
   "metadata": {
    "execution": {
     "iopub.execute_input": "2020-12-21T23:35:16.417688Z",
     "iopub.status.busy": "2020-12-21T23:35:16.416682Z",
     "iopub.status.idle": "2020-12-21T23:35:16.420683Z",
     "shell.execute_reply": "2020-12-21T23:35:16.421511Z"
    },
    "papermill": {
     "duration": 0.0265,
     "end_time": "2020-12-21T23:35:16.421707",
     "exception": false,
     "start_time": "2020-12-21T23:35:16.395207",
     "status": "completed"
    },
    "tags": []
   },
   "outputs": [
    {
     "name": "stdout",
     "output_type": "stream",
     "text": [
      "Columns selected: ['TransactionAmt', 'ProductCD', 'card1', 'card2', 'card3', 'card4', 'card5', 'card6', 'addr1', 'addr2', 'dist1', 'dist2', 'P_emaildomain', 'R_emaildomain', 'C1', 'C2', 'C3', 'C4', 'C5', 'C6', 'C7', 'C8', 'C9', 'C10', 'C11', 'C12', 'C13', 'C14', 'D3', 'D5', 'D7', 'D8', 'D9', 'M1', 'M2', 'M3', 'M4', 'M5', 'M6', 'M7', 'M8', 'M9', 'V1', 'V2', 'V3', 'V4', 'V5', 'V6', 'V7', 'V8', 'V9', 'V10', 'V11', 'V12', 'V13', 'V14', 'V15', 'V16', 'V17', 'V18', 'V19', 'V20', 'V21', 'V22', 'V23', 'V24', 'V25', 'V26', 'V27', 'V28', 'V29', 'V30', 'V31', 'V32', 'V33', 'V34', 'V35', 'V36', 'V37', 'V38', 'V39', 'V40', 'V41', 'V42', 'V43', 'V44', 'V45', 'V46', 'V47', 'V48', 'V49', 'V50', 'V51', 'V52', 'V53', 'V54', 'V55', 'V56', 'V57', 'V58', 'V59', 'V60', 'V61', 'V62', 'V63', 'V64', 'V65', 'V66', 'V67', 'V68', 'V69', 'V70', 'V71', 'V72', 'V73', 'V74', 'V75', 'V76', 'V77', 'V78', 'V79', 'V80', 'V81', 'V82', 'V83', 'V84', 'V85', 'V86', 'V87', 'V88', 'V89', 'V90', 'V91', 'V92', 'V93', 'V94', 'V95', 'V96', 'V97', 'V98', 'V99', 'V100', 'V101', 'V102', 'V103', 'V104', 'V105', 'V106', 'V107', 'V108', 'V109', 'V110', 'V111', 'V112', 'V113', 'V114', 'V115', 'V116', 'V117', 'V118', 'V119', 'V120', 'V121', 'V122', 'V123', 'V124', 'V125', 'V126', 'V127', 'V128', 'V129', 'V130', 'V131', 'V132', 'V133', 'V134', 'V135', 'V136', 'V137', 'V138', 'V139', 'V140', 'V141', 'V142', 'V143', 'V144', 'V145', 'V146', 'V147', 'V148', 'V149', 'V150', 'V151', 'V152', 'V153', 'V154', 'V155', 'V156', 'V157', 'V158', 'V159', 'V160', 'V161', 'V162', 'V163', 'V164', 'V165', 'V166', 'V167', 'V168', 'V169', 'V170', 'V171', 'V172', 'V173', 'V174', 'V175', 'V176', 'V177', 'V178', 'V179', 'V180', 'V181', 'V182', 'V183', 'V184', 'V185', 'V186', 'V187', 'V188', 'V189', 'V190', 'V191', 'V192', 'V193', 'V194', 'V195', 'V196', 'V197', 'V198', 'V199', 'V200', 'V201', 'V202', 'V203', 'V204', 'V205', 'V206', 'V207', 'V208', 'V209', 'V210', 'V211', 'V212', 'V213', 'V214', 'V215', 'V216', 'V217', 'V218', 'V219', 'V220', 'V221', 'V222', 'V223', 'V224', 'V225', 'V226', 'V227', 'V228', 'V229', 'V230', 'V231', 'V232', 'V233', 'V234', 'V235', 'V236', 'V237', 'V238', 'V239', 'V240', 'V241', 'V242', 'V243', 'V244', 'V245', 'V246', 'V247', 'V248', 'V249', 'V250', 'V251', 'V252', 'V253', 'V254', 'V255', 'V256', 'V257', 'V258', 'V259', 'V260', 'V261', 'V262', 'V263', 'V264', 'V265', 'V266', 'V267', 'V268', 'V269', 'V270', 'V271', 'V272', 'V273', 'V274', 'V275', 'V276', 'V277', 'V278', 'V279', 'V280', 'V281', 'V282', 'V283', 'V284', 'V285', 'V286', 'V287', 'V288', 'V289', 'V290', 'V291', 'V292', 'V293', 'V294', 'V295', 'V296', 'V297', 'V298', 'V299', 'V300', 'V301', 'V302', 'V303', 'V304', 'V305', 'V306', 'V307', 'V308', 'V309', 'V310', 'V311', 'V312', 'V313', 'V314', 'V315', 'V316', 'V317', 'V318', 'V319', 'V320', 'V321', 'V322', 'V323', 'V324', 'V325', 'V326', 'V327', 'V328', 'V329', 'V330', 'V331', 'V332', 'V333', 'V334', 'V335', 'V336', 'V337', 'V338', 'V339', 'D1achr', 'D2achr', 'D4achr', 'D6achr', 'D10achr', 'D11achr', 'D12achr', 'D13achr', 'D14achr', 'D15achr']\n",
      "Lenght: 391\n"
     ]
    }
   ],
   "source": [
    "##### Feature selection for the model\n",
    "# To prevent overfitting, we choose the elimination of some columns.\n",
    "\n",
    "features = list(df_train)\n",
    "features_to_remove = ['TransactionID','isFraud','TransactionDT','DT','uid1', 'uid2', 'uids', 'D1','D2','D4','D6','D10','D11','D12',\n",
    "                     'D13','D14','D15']\n",
    "\n",
    "for col in features_to_remove:\n",
    "    features.remove(col)\n",
    "\n",
    "# Get the feature list\n",
    "\n",
    "print(f'Columns selected: {features}')\n",
    "print(f'Lenght: {len(features)}')"
   ]
  },
  {
   "cell_type": "code",
   "execution_count": 4,
   "metadata": {
    "_cell_guid": "fec10c8b-9f73-405a-b3a7-df67776a82ba",
    "_uuid": "1e60c5bb-9209-4962-ad7b-fe10aebec302",
    "execution": {
     "iopub.execute_input": "2020-12-21T23:35:16.467450Z",
     "iopub.status.busy": "2020-12-21T23:35:16.466553Z",
     "iopub.status.idle": "2020-12-21T23:35:17.624181Z",
     "shell.execute_reply": "2020-12-21T23:35:17.623104Z"
    },
    "papermill": {
     "duration": 1.177551,
     "end_time": "2020-12-21T23:35:17.624349",
     "exception": false,
     "start_time": "2020-12-21T23:35:16.446798",
     "status": "completed"
    },
    "tags": []
   },
   "outputs": [],
   "source": [
    "##### Train + val separation\n",
    "# We separate train (6 months) into train (4 months and 15 days) + skip (15 days) + val (1 month)\n",
    "\n",
    "train = df_train.query('DT <= 135').copy()\n",
    "val = df_train.query('DT >  150').copy()"
   ]
  },
  {
   "cell_type": "code",
   "execution_count": 5,
   "metadata": {
    "_cell_guid": "6df4a136-604b-4d70-96c3-617e24d7709a",
    "_uuid": "0bf35d6e-27a1-4676-9075-49ceb7fc93bf",
    "execution": {
     "iopub.execute_input": "2020-12-21T23:35:17.671237Z",
     "iopub.status.busy": "2020-12-21T23:35:17.670390Z",
     "iopub.status.idle": "2020-12-21T23:35:18.478919Z",
     "shell.execute_reply": "2020-12-21T23:35:18.478271Z"
    },
    "papermill": {
     "duration": 0.831057,
     "end_time": "2020-12-21T23:35:18.479032",
     "exception": false,
     "start_time": "2020-12-21T23:35:17.647975",
     "status": "completed"
    },
    "tags": []
   },
   "outputs": [
    {
     "name": "stdout",
     "output_type": "stream",
     "text": [
      "X_train: (458800, 391)\n",
      "y_train: (458800,)\n",
      "X_val: (92427, 391)\n",
      "y_val: (92427,)\n",
      "X_test: (506691, 391)\n"
     ]
    }
   ],
   "source": [
    "##### Defining X and target\n",
    "\n",
    "# Train\n",
    "X_train = train[features]\n",
    "y_train = train.isFraud\n",
    "print('X_train:', X_train.shape)\n",
    "print('y_train:', y_train.shape)\n",
    "\n",
    "# Val\n",
    "X_val = val[features]\n",
    "y_val = val.isFraud\n",
    "print('X_val:', X_val.shape)\n",
    "print('y_val:', y_val.shape)\n",
    "\n",
    "# Test\n",
    "X_test = df_test[features]\n",
    "print('X_test:', X_test.shape)"
   ]
  },
  {
   "cell_type": "markdown",
   "metadata": {
    "_cell_guid": "dc0a3055-9591-486c-b6be-9473484dfaec",
    "_uuid": "0a644a90-efe3-4aca-a33d-b46227d54999",
    "papermill": {
     "duration": 0.015597,
     "end_time": "2020-12-21T23:35:18.511019",
     "exception": false,
     "start_time": "2020-12-21T23:35:18.495422",
     "status": "completed"
    },
    "tags": []
   },
   "source": [
    "# Modelling with LightGBM"
   ]
  },
  {
   "cell_type": "code",
   "execution_count": 6,
   "metadata": {
    "execution": {
     "iopub.execute_input": "2020-12-21T23:35:18.555195Z",
     "iopub.status.busy": "2020-12-21T23:35:18.551509Z",
     "iopub.status.idle": "2020-12-21T23:35:18.559091Z",
     "shell.execute_reply": "2020-12-21T23:35:18.558401Z"
    },
    "papermill": {
     "duration": 0.032159,
     "end_time": "2020-12-21T23:35:18.559185",
     "exception": false,
     "start_time": "2020-12-21T23:35:18.527026",
     "status": "completed"
    },
    "tags": []
   },
   "outputs": [],
   "source": [
    "##### Bayesian Optimization\n",
    "# https://github.com/fmfn/BayesianOptimization\n",
    "\n",
    "def objective(learning_rate,num_leaves,max_depth,colsample_bytree,subsample):\n",
    "    \n",
    "    # get X_train and X_val that are defined outside the functions that's why 'global' label\n",
    "    global X_train\n",
    "    global y_train\n",
    "    global X_val\n",
    "    global y_val\n",
    "    \n",
    "    # transform dtype of integers to avoid errors\n",
    "    num_leaves = int(num_leaves)\n",
    "    max_depth = int(max_depth)\n",
    "    \n",
    "    # check dtype if not: stop and execute an error\n",
    "    assert type(num_leaves) == int\n",
    "    assert type(max_depth) == int\n",
    "    \n",
    "    # create the params\n",
    "    parameters = {'objective': 'binary',\n",
    "             'boosting_type': 'gbdt',\n",
    "             'metric': 'auc',\n",
    "             'n_jobs': -1,\n",
    "             'tree_learner': 'serial',\n",
    "             'learning_rate': learning_rate,\n",
    "             'num_leaves': num_leaves,\n",
    "             'max_depth': max_depth,\n",
    "             'colsample_bytree': colsample_bytree,\n",
    "             'subsample': subsample,\n",
    "             'verbosity': -1,\n",
    "             'random_state': 27}\n",
    "    \n",
    "    # create the dataset\n",
    "    categorical_columns = ['ProductCD', 'card4', 'card6', 'P_emaildomain', 'M1', 'M3', 'M4', 'M5', 'M6', 'M8', 'M9']\n",
    "    \n",
    "    train_data = lgb.Dataset(X_train, label = y_train, categorical_feature = categorical_columns)\n",
    "    val_data = lgb.Dataset(X_val, label = y_val, categorical_feature = categorical_columns)\n",
    "    \n",
    "    # train the model\n",
    "    model_lgb = lgb.train(parameters, train_data , valid_sets = [train_data, val_data], num_boost_round = 200, categorical_feature = categorical_columns,\n",
    "                          early_stopping_rounds = 200, verbose_eval = 0)\n",
    "    \n",
    "    score  = roc_auc_score(y_val, model_lgb.predict(X_val))\n",
    "                          \n",
    "    return score"
   ]
  },
  {
   "cell_type": "code",
   "execution_count": 7,
   "metadata": {
    "execution": {
     "iopub.execute_input": "2020-12-21T23:35:18.602894Z",
     "iopub.status.busy": "2020-12-21T23:35:18.600718Z",
     "iopub.status.idle": "2020-12-22T00:36:26.892695Z",
     "shell.execute_reply": "2020-12-22T00:36:26.893554Z"
    },
    "papermill": {
     "duration": 3668.318637,
     "end_time": "2020-12-22T00:36:26.893747",
     "exception": false,
     "start_time": "2020-12-21T23:35:18.575110",
     "status": "completed"
    },
    "tags": []
   },
   "outputs": [
    {
     "name": "stdout",
     "output_type": "stream",
     "text": [
      "|   iter    |  target   | colsam... | learni... | max_depth | num_le... | subsample |\n",
      "-------------------------------------------------------------------------------------\n",
      "| \u001b[0m 1       \u001b[0m | \u001b[0m 0.9224  \u001b[0m | \u001b[0m 0.5554  \u001b[0m | \u001b[0m 0.02815 \u001b[0m | \u001b[0m 14.94   \u001b[0m | \u001b[0m 268.4   \u001b[0m | \u001b[0m 0.53    \u001b[0m |\n",
      "| \u001b[95m 2       \u001b[0m | \u001b[95m 0.924   \u001b[0m | \u001b[95m 0.8877  \u001b[0m | \u001b[95m 0.02893 \u001b[0m | \u001b[95m 12.84   \u001b[0m | \u001b[95m 262.1   \u001b[0m | \u001b[95m 0.6979  \u001b[0m |\n",
      "| \u001b[95m 3       \u001b[0m | \u001b[95m 0.9252  \u001b[0m | \u001b[95m 0.8321  \u001b[0m | \u001b[95m 0.02858 \u001b[0m | \u001b[95m 15.0    \u001b[0m | \u001b[95m 268.5   \u001b[0m | \u001b[95m 0.4121  \u001b[0m |\n",
      "| \u001b[95m 4       \u001b[0m | \u001b[95m 0.9265  \u001b[0m | \u001b[95m 0.714   \u001b[0m | \u001b[95m 0.02845 \u001b[0m | \u001b[95m 14.77   \u001b[0m | \u001b[95m 262.5   \u001b[0m | \u001b[95m 0.8654  \u001b[0m |\n",
      "| \u001b[0m 5       \u001b[0m | \u001b[0m 0.9206  \u001b[0m | \u001b[0m 0.3982  \u001b[0m | \u001b[0m 0.02712 \u001b[0m | \u001b[0m 15.75   \u001b[0m | \u001b[0m 245.1   \u001b[0m | \u001b[0m 0.3969  \u001b[0m |\n",
      "| \u001b[0m 6       \u001b[0m | \u001b[0m 0.9237  \u001b[0m | \u001b[0m 0.4995  \u001b[0m | \u001b[0m 0.02958 \u001b[0m | \u001b[0m 12.68   \u001b[0m | \u001b[0m 251.3   \u001b[0m | \u001b[0m 0.8831  \u001b[0m |\n",
      "| \u001b[0m 7       \u001b[0m | \u001b[0m 0.9161  \u001b[0m | \u001b[0m 0.3058  \u001b[0m | \u001b[0m 0.02026 \u001b[0m | \u001b[0m 13.73   \u001b[0m | \u001b[0m 274.2   \u001b[0m | \u001b[0m 0.4251  \u001b[0m |\n",
      "| \u001b[0m 8       \u001b[0m | \u001b[0m 0.9195  \u001b[0m | \u001b[0m 0.495   \u001b[0m | \u001b[0m 0.02615 \u001b[0m | \u001b[0m 12.93   \u001b[0m | \u001b[0m 253.1   \u001b[0m | \u001b[0m 0.79    \u001b[0m |\n",
      "| \u001b[0m 9       \u001b[0m | \u001b[0m 0.9248  \u001b[0m | \u001b[0m 0.8726  \u001b[0m | \u001b[0m 0.02466 \u001b[0m | \u001b[0m 14.84   \u001b[0m | \u001b[0m 268.4   \u001b[0m | \u001b[0m 0.4097  \u001b[0m |\n",
      "| \u001b[0m 10      \u001b[0m | \u001b[0m 0.9259  \u001b[0m | \u001b[0m 0.7571  \u001b[0m | \u001b[0m 0.02424 \u001b[0m | \u001b[0m 14.1    \u001b[0m | \u001b[0m 262.3   \u001b[0m | \u001b[0m 0.7365  \u001b[0m |\n",
      "| \u001b[0m 11      \u001b[0m | \u001b[0m 0.9208  \u001b[0m | \u001b[0m 0.3097  \u001b[0m | \u001b[0m 0.02673 \u001b[0m | \u001b[0m 14.39   \u001b[0m | \u001b[0m 263.1   \u001b[0m | \u001b[0m 0.4773  \u001b[0m |\n",
      "| \u001b[0m 12      \u001b[0m | \u001b[0m 0.9263  \u001b[0m | \u001b[0m 0.9     \u001b[0m | \u001b[0m 0.02795 \u001b[0m | \u001b[0m 14.65   \u001b[0m | \u001b[0m 261.9   \u001b[0m | \u001b[0m 0.9     \u001b[0m |\n",
      "| \u001b[0m 13      \u001b[0m | \u001b[0m 0.9231  \u001b[0m | \u001b[0m 0.7932  \u001b[0m | \u001b[0m 0.02069 \u001b[0m | \u001b[0m 15.57   \u001b[0m | \u001b[0m 262.1   \u001b[0m | \u001b[0m 0.8001  \u001b[0m |\n",
      "| \u001b[0m 14      \u001b[0m | \u001b[0m 0.9201  \u001b[0m | \u001b[0m 0.3     \u001b[0m | \u001b[0m 0.03    \u001b[0m | \u001b[0m 14.51   \u001b[0m | \u001b[0m 261.9   \u001b[0m | \u001b[0m 0.9     \u001b[0m |\n",
      "| \u001b[0m 15      \u001b[0m | \u001b[0m 0.9216  \u001b[0m | \u001b[0m 0.9     \u001b[0m | \u001b[0m 0.02    \u001b[0m | \u001b[0m 14.57   \u001b[0m | \u001b[0m 262.3   \u001b[0m | \u001b[0m 0.603   \u001b[0m |\n",
      "| \u001b[0m 16      \u001b[0m | \u001b[0m 0.9253  \u001b[0m | \u001b[0m 0.8237  \u001b[0m | \u001b[0m 0.02472 \u001b[0m | \u001b[0m 14.76   \u001b[0m | \u001b[0m 261.9   \u001b[0m | \u001b[0m 0.8857  \u001b[0m |\n",
      "| \u001b[0m 17      \u001b[0m | \u001b[0m 0.9225  \u001b[0m | \u001b[0m 0.4893  \u001b[0m | \u001b[0m 0.0293  \u001b[0m | \u001b[0m 14.15   \u001b[0m | \u001b[0m 265.9   \u001b[0m | \u001b[0m 0.6567  \u001b[0m |\n",
      "| \u001b[0m 18      \u001b[0m | \u001b[0m 0.9263  \u001b[0m | \u001b[0m 0.7563  \u001b[0m | \u001b[0m 0.02942 \u001b[0m | \u001b[0m 14.88   \u001b[0m | \u001b[0m 262.8   \u001b[0m | \u001b[0m 0.7958  \u001b[0m |\n",
      "| \u001b[0m 19      \u001b[0m | \u001b[0m 0.9253  \u001b[0m | \u001b[0m 0.7276  \u001b[0m | \u001b[0m 0.02463 \u001b[0m | \u001b[0m 14.02   \u001b[0m | \u001b[0m 267.4   \u001b[0m | \u001b[0m 0.588   \u001b[0m |\n",
      "| \u001b[0m 20      \u001b[0m | \u001b[0m 0.923   \u001b[0m | \u001b[0m 0.497   \u001b[0m | \u001b[0m 0.02574 \u001b[0m | \u001b[0m 15.21   \u001b[0m | \u001b[0m 262.6   \u001b[0m | \u001b[0m 0.8106  \u001b[0m |\n",
      "| \u001b[95m 21      \u001b[0m | \u001b[95m 0.9273  \u001b[0m | \u001b[95m 0.9     \u001b[0m | \u001b[95m 0.03    \u001b[0m | \u001b[95m 14.23   \u001b[0m | \u001b[95m 262.0   \u001b[0m | \u001b[95m 0.9     \u001b[0m |\n",
      "| \u001b[0m 22      \u001b[0m | \u001b[0m 0.9239  \u001b[0m | \u001b[0m 0.8924  \u001b[0m | \u001b[0m 0.02256 \u001b[0m | \u001b[0m 14.34   \u001b[0m | \u001b[0m 261.6   \u001b[0m | \u001b[0m 0.7833  \u001b[0m |\n",
      "| \u001b[0m 23      \u001b[0m | \u001b[0m 0.9247  \u001b[0m | \u001b[0m 0.8431  \u001b[0m | \u001b[0m 0.02774 \u001b[0m | \u001b[0m 13.87   \u001b[0m | \u001b[0m 262.0   \u001b[0m | \u001b[0m 0.8127  \u001b[0m |\n",
      "=====================================================================================\n"
     ]
    }
   ],
   "source": [
    "params = {'learning_rate': (0.02,0.03),\n",
    "         'num_leaves': (225,275),\n",
    "         'max_depth': (12,16),\n",
    "         'colsample_bytree': (0.3,0.9),\n",
    "         'subsample': (0.3,0.9)}\n",
    "\n",
    "clf_BO = BayesianOptimization(objective, params, random_state = 27)\n",
    "\n",
    "clf_BO.maximize(init_points = 3, n_iter = 20)"
   ]
  },
  {
   "cell_type": "code",
   "execution_count": 8,
   "metadata": {
    "execution": {
     "iopub.execute_input": "2020-12-22T00:36:26.981623Z",
     "iopub.status.busy": "2020-12-22T00:36:26.980608Z",
     "iopub.status.idle": "2020-12-22T00:36:26.987061Z",
     "shell.execute_reply": "2020-12-22T00:36:26.986204Z"
    },
    "papermill": {
     "duration": 0.050593,
     "end_time": "2020-12-22T00:36:26.987187",
     "exception": false,
     "start_time": "2020-12-22T00:36:26.936594",
     "status": "completed"
    },
    "tags": []
   },
   "outputs": [
    {
     "name": "stdout",
     "output_type": "stream",
     "text": [
      "Best Parameters: {'colsample_bytree': 0.9, 'learning_rate': 0.03, 'max_depth': 14.227782876897928, 'num_leaves': 261.9698025597409, 'subsample': 0.9}\n",
      " \n",
      "Best AUC: {0.92727011843538}\n"
     ]
    }
   ],
   "source": [
    "print(f'Best Parameters: {clf_BO.max[\"params\"]}')\n",
    "print(' ')\n",
    "print('Best AUC:',{clf_BO.max['target']})"
   ]
  },
  {
   "cell_type": "markdown",
   "metadata": {
    "papermill": {
     "duration": 0.037241,
     "end_time": "2020-12-22T00:36:27.062029",
     "exception": false,
     "start_time": "2020-12-22T00:36:27.024788",
     "status": "completed"
    },
    "tags": []
   },
   "source": [
    "|     #     | learning_rate |    num_leaves   |    max_depth    |colsample_bytree |   subsample     |       AUC       |\n",
    "|:----------:|:--------------:|:----------------:|:----------------:|:----------------:|:----------------:|----------------:|\n",
    "| 1         |0.03215518473989215|             294 |             14 |             0.4 |             0.8 |0.9194457912401148|\n",
    "| 2         |            0.04 |             278 |             13 |             0.4 |             0.9 |0.9164233793906151|\n",
    "| 3         |0.027832622205538907|             268 |             15 |0.3740990054742914|0.589171882228726|0.9188929389573968|\n",
    "| 4         |0.029827755272285032|             262 |             15 |0.7823490596970961|0.8631490082348747|0.92719808846762|"
   ]
  },
  {
   "cell_type": "code",
   "execution_count": 9,
   "metadata": {
    "_cell_guid": "c64c0c28-13db-4f3f-8385-70d0cdaf9e8b",
    "_uuid": "0960805a-4568-4e4f-bcfe-481da84fa00b",
    "execution": {
     "iopub.execute_input": "2020-12-22T00:36:27.147295Z",
     "iopub.status.busy": "2020-12-22T00:36:27.146452Z",
     "iopub.status.idle": "2020-12-22T00:38:19.255327Z",
     "shell.execute_reply": "2020-12-22T00:38:19.256155Z"
    },
    "papermill": {
     "duration": 112.156543,
     "end_time": "2020-12-22T00:38:19.256334",
     "exception": false,
     "start_time": "2020-12-22T00:36:27.099791",
     "status": "completed"
    },
    "tags": []
   },
   "outputs": [
    {
     "name": "stdout",
     "output_type": "stream",
     "text": [
      "Training until validation scores don't improve for 200 rounds\n",
      "[100]\ttraining's auc: 0.966807\tvalid_1's auc: 0.910838\n",
      "[200]\ttraining's auc: 0.987707\tvalid_1's auc: 0.923519\n",
      "Did not meet early stopping. Best iteration is:\n",
      "[200]\ttraining's auc: 0.987707\tvalid_1's auc: 0.923519\n"
     ]
    }
   ],
   "source": [
    "##### LightGBM with #3\n",
    "\n",
    "parameters = {'objective': 'binary',\n",
    "             'boosting_type': 'gbdt',\n",
    "             'metric': 'auc',\n",
    "             'n_jobs': -1,\n",
    "             'tree_learner': 'serial',\n",
    "             'learning_rate': 0.027832622205538907,\n",
    "             'num_leaves': 268,\n",
    "             'max_depth': 15,\n",
    "             'colsample_bytree': 0.3740990054742914,\n",
    "             'subsample': 0.589171882228726,\n",
    "             'verbosity': -1,\n",
    "             'random_state': 27}\n",
    "\n",
    "categorical_columns = ['ProductCD', 'card4', 'card6', 'P_emaildomain', 'M1', 'M3', 'M4', 'M5', 'M6', 'M8', 'M9']\n",
    "\n",
    "train_data = lgb.Dataset(X_train, label = y_train, categorical_feature = categorical_columns)\n",
    "val_data   = lgb.Dataset(X_val,   label = y_val, categorical_feature = categorical_columns)\n",
    "\n",
    "clf = lgb.train(parameters, train_data , valid_sets = [train_data, val_data], num_boost_round = 200, categorical_feature = categorical_columns,\n",
    "                          early_stopping_rounds = 200, verbose_eval = 100)"
   ]
  },
  {
   "cell_type": "code",
   "execution_count": 10,
   "metadata": {
    "execution": {
     "iopub.execute_input": "2020-12-22T00:38:19.356169Z",
     "iopub.status.busy": "2020-12-22T00:38:19.355233Z",
     "iopub.status.idle": "2020-12-22T00:38:21.270769Z",
     "shell.execute_reply": "2020-12-22T00:38:21.271697Z"
    },
    "papermill": {
     "duration": 1.969511,
     "end_time": "2020-12-22T00:38:21.271873",
     "exception": false,
     "start_time": "2020-12-22T00:38:19.302362",
     "status": "completed"
    },
    "tags": []
   },
   "outputs": [
    {
     "name": "stdout",
     "output_type": "stream",
     "text": [
      "AUC: 0.9235192329572796\n"
     ]
    }
   ],
   "source": [
    "##### AUC\n",
    "\n",
    "auc = roc_auc_score(y_val, clf.predict(X_val))\n",
    "print('AUC:',auc)"
   ]
  },
  {
   "cell_type": "code",
   "execution_count": 11,
   "metadata": {
    "execution": {
     "iopub.execute_input": "2020-12-22T00:38:21.374217Z",
     "iopub.status.busy": "2020-12-22T00:38:21.372860Z",
     "iopub.status.idle": "2020-12-22T00:38:23.550124Z",
     "shell.execute_reply": "2020-12-22T00:38:23.549400Z"
    },
    "papermill": {
     "duration": 2.232964,
     "end_time": "2020-12-22T00:38:23.550233",
     "exception": false,
     "start_time": "2020-12-22T00:38:21.317269",
     "status": "completed"
    },
    "tags": []
   },
   "outputs": [
    {
     "data": {
      "image/png": "[encoded data removed]",
      "text/plain": [
       "<Figure size 576x576 with 1 Axes>"
      ]
     },
     "metadata": {
      "needs_background": "light"
     },
     "output_type": "display_data"
    }
   ],
   "source": [
    "##### ROC Curve\n",
    "\n",
    "y_pred = clf.predict(X_val)\n",
    "r_curve = roc_curve(y_val, y_pred)\n",
    "\n",
    "plt.figure(figsize=(8,8))\n",
    "plt.title('ROC')\n",
    "plt.plot(r_curve[0], r_curve[1], 'b', label = 'AUC = %0.2f' % auc)\n",
    "plt.legend(loc = 'lower right')\n",
    "plt.plot([0, 1], [0, 1],'r--')\n",
    "plt.xlim([0, 1])\n",
    "plt.ylim([0, 1])\n",
    "plt.ylabel('True Positive Rate')\n",
    "plt.xlabel('False Positive Rate')\n",
    "plt.show()"
   ]
  },
  {
   "cell_type": "code",
   "execution_count": 12,
   "metadata": {
    "_cell_guid": "ae3eec9f-d34b-4109-a9ab-5fee21b73a63",
    "_uuid": "a9a6d327-f8bd-4002-9e34-da8e0a0d2430",
    "execution": {
     "iopub.execute_input": "2020-12-22T00:38:23.615207Z",
     "iopub.status.busy": "2020-12-22T00:38:23.614525Z",
     "iopub.status.idle": "2020-12-22T00:38:24.288153Z",
     "shell.execute_reply": "2020-12-22T00:38:24.287418Z"
    },
    "papermill": {
     "duration": 0.709631,
     "end_time": "2020-12-22T00:38:24.288255",
     "exception": false,
     "start_time": "2020-12-22T00:38:23.578624",
     "status": "completed"
    },
    "tags": []
   },
   "outputs": [
    {
     "data": {
      "image/png": "[encoded data removed]",
      "text/plain": [
       "<Figure size 1152x720 with 1 Axes>"
      ]
     },
     "metadata": {
      "needs_background": "light"
     },
     "output_type": "display_data"
    }
   ],
   "source": [
    "##### Feature Importance\n",
    "\n",
    "features_importance = clf.feature_importance()\n",
    "features_array = np.array(features)\n",
    "features_array_ordered = features_array[(features_importance).argsort()[::-1]]\n",
    "features_array_ordered\n",
    "\n",
    "plt.figure(figsize=(16,10))\n",
    "sns.barplot(y=features_array, x=features_importance, orient='h', order=features_array_ordered[:50])\n",
    "\n",
    "plt.show()"
   ]
  },
  {
   "cell_type": "code",
   "execution_count": 13,
   "metadata": {
    "_cell_guid": "7ff27bc0-92b8-47e4-b5b9-320acb949c31",
    "_uuid": "866a0da9-0e04-4842-bd79-6b7d3df3549d",
    "execution": {
     "iopub.execute_input": "2020-12-22T00:38:24.357727Z",
     "iopub.status.busy": "2020-12-22T00:38:24.356884Z",
     "iopub.status.idle": "2020-12-22T00:38:24.447906Z",
     "shell.execute_reply": "2020-12-22T00:38:24.447117Z"
    },
    "papermill": {
     "duration": 0.130387,
     "end_time": "2020-12-22T00:38:24.448035",
     "exception": false,
     "start_time": "2020-12-22T00:38:24.317648",
     "status": "completed"
    },
    "tags": []
   },
   "outputs": [],
   "source": [
    "##### Saving this results into an Excel file\n",
    "\n",
    "try:\n",
    "    model_results = pd.read_excel('model_results.xlsx')\n",
    "    \n",
    "    model_results = model_results.append({'datetime' : datetime.datetime.now(), 'clf':clf.__class__, 'features': features_array, 'parameters' : clf.params,\n",
    "                                       'AUC': auc, 'features_importance': list(features_importance), 'features_ordered': list(features_array_ordered), \n",
    "                                       }, ignore_index = True)\n",
    "        \n",
    "except:\n",
    "    model_results = pd.DataFrame(columns = ['summary', 'datetime', 'clf', 'features', 'parameters', 'entry1', 'entry2', \n",
    "                                            'AUC', 'features_importance', 'features_ordered', 'output1', 'output2'])\n",
    "    \n",
    "    model_results = model_results.append({'datetime' : datetime.datetime.now(), 'clf':clf.__class__, 'features': features_array, 'parameters' : clf.params, \n",
    "                                       'AUC': auc, 'features_importance': list(features_importance), 'features_ordered': list(features_array_ordered),\n",
    "                                       }, ignore_index = True)\n",
    "finally:\n",
    "    model_results.to_excel('model_results.xlsx', index= False)"
   ]
  },
  {
   "cell_type": "code",
   "execution_count": 14,
   "metadata": {
    "execution": {
     "iopub.execute_input": "2020-12-22T00:38:24.538814Z",
     "iopub.status.busy": "2020-12-22T00:38:24.537817Z",
     "iopub.status.idle": "2020-12-22T00:38:24.787227Z",
     "shell.execute_reply": "2020-12-22T00:38:24.787963Z"
    },
    "papermill": {
     "duration": 0.29764,
     "end_time": "2020-12-22T00:38:24.788143",
     "exception": false,
     "start_time": "2020-12-22T00:38:24.490503",
     "status": "completed"
    },
    "tags": []
   },
   "outputs": [
    {
     "data": {
      "text/plain": [
       "['model_lightgbm.pkl']"
      ]
     },
     "execution_count": 14,
     "metadata": {},
     "output_type": "execute_result"
    }
   ],
   "source": [
    "##### Saving this model\n",
    "\n",
    "joblib.dump(clf, 'model_lightgbm.pkl')"
   ]
  },
  {
   "cell_type": "markdown",
   "metadata": {
    "papermill": {
     "duration": 0.050417,
     "end_time": "2020-12-22T00:38:24.890339",
     "exception": false,
     "start_time": "2020-12-22T00:38:24.839922",
     "status": "completed"
    },
    "tags": []
   },
   "source": [
    "# Submission to Kaggle"
   ]
  },
  {
   "cell_type": "code",
   "execution_count": 15,
   "metadata": {
    "execution": {
     "iopub.execute_input": "2020-12-22T00:38:24.992619Z",
     "iopub.status.busy": "2020-12-22T00:38:24.991797Z",
     "iopub.status.idle": "2020-12-22T00:38:37.119193Z",
     "shell.execute_reply": "2020-12-22T00:38:37.118406Z"
    },
    "papermill": {
     "duration": 12.178597,
     "end_time": "2020-12-22T00:38:37.119327",
     "exception": false,
     "start_time": "2020-12-22T00:38:24.940730",
     "status": "completed"
    },
    "tags": []
   },
   "outputs": [],
   "source": [
    "pred = clf.predict(X_test)\n",
    "submission = pd.DataFrame()\n",
    "\n",
    "submission['TransactionID'] = df_test['TransactionID']\n",
    "submission['isFraud'] = pred\n",
    "\n",
    "submission\n",
    "submission.to_csv('submission.csv', index = False)"
   ]
  },
  {
   "cell_type": "code",
   "execution_count": 16,
   "metadata": {
    "execution": {
     "iopub.execute_input": "2020-12-22T00:38:37.299776Z",
     "iopub.status.busy": "2020-12-22T00:38:37.214732Z",
     "iopub.status.idle": "2020-12-22T00:38:37.479427Z",
     "shell.execute_reply": "2020-12-22T00:38:37.478779Z"
    },
    "papermill": {
     "duration": 0.31515,
     "end_time": "2020-12-22T00:38:37.479558",
     "exception": false,
     "start_time": "2020-12-22T00:38:37.164408",
     "status": "completed"
    },
    "tags": []
   },
   "outputs": [
    {
     "name": "stdout",
     "output_type": "stream",
     "text": [
      "Done!\n"
     ]
    }
   ],
   "source": [
    "val.to_pickle('val_lgb.pkl')\n",
    "print('Done!')"
   ]
  }
 ],
 "metadata": {
  "kernelspec": {
   "display_name": "Python 3",
   "language": "python",
   "name": "python3"
  },
  "language_info": {
   "codemirror_mode": {
    "name": "ipython",
    "version": 3
   },
   "file_extension": ".py",
   "mimetype": "text/x-python",
   "name": "python",
   "nbconvert_exporter": "python",
   "pygments_lexer": "ipython3",
   "version": "3.7.6"
  },
  "papermill": {
   "duration": 3819.640791,
   "end_time": "2020-12-22T00:38:37.719272",
   "environment_variables": {},
   "exception": null,
   "input_path": "__notebook__.ipynb",
   "output_path": "__notebook__.ipynb",
   "parameters": {},
   "start_time": "2020-12-21T23:34:58.078481",
   "version": "2.1.0"
  }
 },
 "nbformat": 4,
 "nbformat_minor": 4
}
